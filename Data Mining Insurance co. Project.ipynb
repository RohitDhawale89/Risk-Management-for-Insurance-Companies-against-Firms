{
 "cells": [
  {
   "cell_type": "markdown",
   "id": "8a14ecc6",
   "metadata": {},
   "source": [
    "# RISK MANAGMENT FOR INSURANCE COMPANIES AGAINST FIRMS"
   ]
  },
  {
   "cell_type": "markdown",
   "id": "c8183d11",
   "metadata": {},
   "source": [
    "## Problem Statment : "
   ]
  },
  {
   "cell_type": "markdown",
   "id": "66e525d8",
   "metadata": {},
   "source": [
    "Insurance company has started to offer insurance to the firms in the IT market via insurance program.\n",
    "\n",
    "The insurance company has recently provided the insurance to 6800 firms. Due to the economic crises in the current scenario out of 6800, 220 firms went bankrupt. Due to this crises the insurance company has got a severe headache to pay to the firms on their insurance claims. \n",
    "\n",
    "The insurance company is shocked by the failure of their current strategy to provide insurance. The shocking scenario is the result of their customers(firms) going bankrupt.\n",
    "\n",
    "To avoid the same in the future, I have developed a model to identify who should be given an insurance in future on the basis of the bankruptcy of the firms. Insurance company have shared the details that adding a new firm into the insurance policy will profit them \\\\$1,000 per customer and on the insurance claims by a firm results in the loss of \\\\$50,000 per firm. They have an additional 68,000 firms lined up to get an insurance."
   ]
  },
  {
   "cell_type": "markdown",
   "id": "2d525307",
   "metadata": {},
   "source": [
    "## Install and/or import necessary packages"
   ]
  },
  {
   "cell_type": "markdown",
   "id": "c56fab04",
   "metadata": {},
   "source": [
    "Installation of the necessary packages and setting random seed."
   ]
  },
  {
   "cell_type": "code",
   "execution_count": 1,
   "id": "1406ed36",
   "metadata": {},
   "outputs": [
    {
     "name": "stderr",
     "output_type": "stream",
     "text": [
      "C:\\Users\\Admin\\anaconda3\\lib\\site-packages\\xgboost\\compat.py:36: FutureWarning: pandas.Int64Index is deprecated and will be removed from pandas in a future version. Use pandas.Index with the appropriate dtype instead.\n",
      "  from pandas import MultiIndex, Int64Index\n"
     ]
    }
   ],
   "source": [
    "import pandas as pd\n",
    "import numpy as np\n",
    "import seaborn as sns\n",
    "from sklearn import metrics\n",
    "import matplotlib.pyplot as plt\n",
    "from sklearn.model_selection import train_test_split\n",
    "from sklearn.tree import DecisionTreeClassifier\n",
    "from sklearn.metrics import confusion_matrix, accuracy_score, precision_score, recall_score ,f1_score,classification_report, make_scorer\n",
    "from sklearn.preprocessing import OrdinalEncoder\n",
    "from sklearn.preprocessing import LabelEncoder\n",
    "from sklearn.preprocessing import OneHotEncoder\n",
    "from sklearn.preprocessing import StandardScaler\n",
    "from sklearn.model_selection import train_test_split\n",
    "from sklearn.neighbors import KNeighborsClassifier\n",
    "from sklearn.tree import plot_tree\n",
    "from sklearn.tree import export_text\n",
    "from sklearn.utils import resample\n",
    "from sklearn import preprocessing\n",
    "from xgboost import XGBClassifier\n",
    "from sklearn.model_selection import train_test_split, cross_val_score, GridSearchCV, RandomizedSearchCV\n",
    "from imblearn.over_sampling import RandomOverSampler\n",
    "from sklearn.ensemble import RandomForestClassifier, GradientBoostingClassifier, AdaBoostClassifier\n",
    "from sklearn.linear_model import LogisticRegression"
   ]
  },
  {
   "cell_type": "markdown",
   "id": "59cc3528",
   "metadata": {},
   "source": [
    "## Preliminary business problem Solving"
   ]
  },
  {
   "cell_type": "markdown",
   "id": "f3eba8a3",
   "metadata": {},
   "source": [
    "I have jot down what would have been the total profit and loss (P&L) for the insurance company as of now from the bankruptcies and will be predicting the companies who would be bankrupt from the economic crises."
   ]
  },
  {
   "cell_type": "code",
   "execution_count": 3,
   "id": "7fa109ad",
   "metadata": {},
   "outputs": [
    {
     "name": "stdout",
     "output_type": "stream",
     "text": [
      "$-322,200,000.00\n"
     ]
    }
   ],
   "source": [
    "# Insurance company will not provide a loan as they thought the company might go bankrupt and the firm went bankrupt. \n",
    "TP_profit = 0   #Insurance company made no profit no loss as they didnt target such firms.\n",
    "\n",
    "# Insurance company didnt target the firms as they thought the firm might go bankrupt but the firm didnt.\n",
    "FP_profit = -1000   #Insurance company lost their potential customers.\n",
    "\n",
    "# Insurance company targeted the wrong firms.\n",
    "FN_profit = -50000 + 1000 #Insurance company have to pay to the firms insurance claims.\n",
    "\n",
    "# Insurance company target the perfect firms who didnt go bankrupt.\n",
    "TN_profit = 1000 #Insurance company made profit out of it.\n",
    "\n",
    "# in the null model there are only FP's and TP's because everyone is considered a possible customer\n",
    "original_profit = 220*TN_profit + (6800-220)*FN_profit\n",
    "print(f\"${original_profit:,.2f}\")"
   ]
  },
  {
   "cell_type": "code",
   "execution_count": 6,
   "id": "a9c0f45f",
   "metadata": {},
   "outputs": [],
   "source": [
    "trial_N = 6800 # number of observations in the original sample \n",
    "rollout_N = 50_000 # the sample of frims they plan to roll the new model out to"
   ]
  },
  {
   "cell_type": "markdown",
   "id": "c747e944",
   "metadata": {},
   "source": [
    "Using the same approach on the remaining 50000 customers would not turn out to be in favour of the insurance company."
   ]
  },
  {
   "cell_type": "code",
   "execution_count": 7,
   "id": "2c9130a5",
   "metadata": {},
   "outputs": [
    {
     "name": "stdout",
     "output_type": "stream",
     "text": [
      "$-2,369,117,647.06\n"
     ]
    }
   ],
   "source": [
    "print(f\"${original_profit*50000/6800:,.2f}\") #"
   ]
  },
  {
   "cell_type": "markdown",
   "id": "0ed6ea82",
   "metadata": {},
   "source": [
    "This analysis shows that if the insurance company continues the same approach to provide insurance to firms that would be a huge loss to the company. Therfore it is clear that insurance company needs a better model to foresee the firms bankruptcy. The best model possible would be 100% accurate. Economic crises resulted in 220 out of 6800 firms going bankrupt. The rate 220/6800 is, therfore, the expected rate of firms that take the insurance, and thus the expected profit result from the perfectly accurate model will turn out to be: "
   ]
  },
  {
   "cell_type": "code",
   "execution_count": 8,
   "id": "84e89a83",
   "metadata": {},
   "outputs": [
    {
     "name": "stdout",
     "output_type": "stream",
     "text": [
      "$-79,264,705.88\n"
     ]
    }
   ],
   "source": [
    "print(f\"${220*50000/6800*FN_profit:,.2f}\") #"
   ]
  },
  {
   "cell_type": "markdown",
   "id": "6ca57dbb",
   "metadata": {},
   "source": [
    "Setting the random seed"
   ]
  },
  {
   "cell_type": "code",
   "execution_count": 9,
   "id": "5eee74dc",
   "metadata": {},
   "outputs": [],
   "source": [
    "random_seed = 1\n",
    "np.random.seed(random_seed)"
   ]
  },
  {
   "cell_type": "code",
   "execution_count": 10,
   "id": "1176aa89",
   "metadata": {},
   "outputs": [
    {
     "data": {
      "text/plain": [
       "array([[  1000,  -1000],\n",
       "       [-49000,      0]])"
      ]
     },
     "execution_count": 10,
     "metadata": {},
     "output_type": "execute_result"
    }
   ],
   "source": [
    "# this will be useful for later calculations involving the confusion matrix\n",
    "pl_matrix = np.array([[TN_profit, FP_profit],[FN_profit, TP_profit]]) \n",
    "pl_matrix"
   ]
  },
  {
   "cell_type": "markdown",
   "id": "f8e0a59f",
   "metadata": {},
   "source": [
    " ## Load the dataset"
   ]
  },
  {
   "cell_type": "markdown",
   "id": "9efa1cb5",
   "metadata": {},
   "source": [
    "Loading the file with read_csv command and printing the top 10 values"
   ]
  },
  {
   "cell_type": "code",
   "execution_count": 11,
   "id": "671c376c",
   "metadata": {
    "scrolled": true
   },
   "outputs": [
    {
     "data": {
      "text/html": [
       "<div>\n",
       "<style scoped>\n",
       "    .dataframe tbody tr th:only-of-type {\n",
       "        vertical-align: middle;\n",
       "    }\n",
       "\n",
       "    .dataframe tbody tr th {\n",
       "        vertical-align: top;\n",
       "    }\n",
       "\n",
       "    .dataframe thead th {\n",
       "        text-align: right;\n",
       "    }\n",
       "</style>\n",
       "<table border=\"1\" class=\"dataframe\">\n",
       "  <thead>\n",
       "    <tr style=\"text-align: right;\">\n",
       "      <th></th>\n",
       "      <th>Bankrupt</th>\n",
       "      <th>ROA(C) before interest and depreciation before interest</th>\n",
       "      <th>ROA(A) before interest and % after tax</th>\n",
       "      <th>ROA(B) before interest and depreciation after tax</th>\n",
       "      <th>Operating Gross Margin</th>\n",
       "      <th>Realized Sales Gross Margin</th>\n",
       "      <th>Operating Profit Rate</th>\n",
       "      <th>Pre-tax net Interest Rate</th>\n",
       "      <th>After-tax net Interest Rate</th>\n",
       "      <th>Non-industry income and expenditure/revenue</th>\n",
       "      <th>...</th>\n",
       "      <th>Net Income to Total Assets</th>\n",
       "      <th>Total assets to GNP price</th>\n",
       "      <th>No-credit Interval</th>\n",
       "      <th>Gross Profit to Sales</th>\n",
       "      <th>Net Income to Stockholder's Equity</th>\n",
       "      <th>Liability to Equity</th>\n",
       "      <th>Degree of Financial Leverage (DFL)</th>\n",
       "      <th>Interest Coverage Ratio (Interest expense to EBIT)</th>\n",
       "      <th>Net Income Flag</th>\n",
       "      <th>Equity to Liability</th>\n",
       "    </tr>\n",
       "  </thead>\n",
       "  <tbody>\n",
       "    <tr>\n",
       "      <th>0</th>\n",
       "      <td>1</td>\n",
       "      <td>370</td>\n",
       "      <td>424</td>\n",
       "      <td>405</td>\n",
       "      <td>601</td>\n",
       "      <td>601</td>\n",
       "      <td>998</td>\n",
       "      <td>796</td>\n",
       "      <td>808</td>\n",
       "      <td>302</td>\n",
       "      <td>...</td>\n",
       "      <td>716</td>\n",
       "      <td>9.0</td>\n",
       "      <td>622</td>\n",
       "      <td>601</td>\n",
       "      <td>827</td>\n",
       "      <td>290</td>\n",
       "      <td>26</td>\n",
       "      <td>564</td>\n",
       "      <td>1000</td>\n",
       "      <td>16</td>\n",
       "    </tr>\n",
       "    <tr>\n",
       "      <th>1</th>\n",
       "      <td>1</td>\n",
       "      <td>464</td>\n",
       "      <td>538</td>\n",
       "      <td>516</td>\n",
       "      <td>610</td>\n",
       "      <td>610</td>\n",
       "      <td>998</td>\n",
       "      <td>797</td>\n",
       "      <td>809</td>\n",
       "      <td>303</td>\n",
       "      <td>...</td>\n",
       "      <td>795</td>\n",
       "      <td>8.0</td>\n",
       "      <td>623</td>\n",
       "      <td>610</td>\n",
       "      <td>839</td>\n",
       "      <td>283</td>\n",
       "      <td>264</td>\n",
       "      <td>570</td>\n",
       "      <td>1000</td>\n",
       "      <td>20</td>\n",
       "    </tr>\n",
       "    <tr>\n",
       "      <th>2</th>\n",
       "      <td>1</td>\n",
       "      <td>426</td>\n",
       "      <td>499</td>\n",
       "      <td>472</td>\n",
       "      <td>601</td>\n",
       "      <td>601</td>\n",
       "      <td>998</td>\n",
       "      <td>796</td>\n",
       "      <td>808</td>\n",
       "      <td>302</td>\n",
       "      <td>...</td>\n",
       "      <td>774</td>\n",
       "      <td>40.0</td>\n",
       "      <td>623</td>\n",
       "      <td>601</td>\n",
       "      <td>836</td>\n",
       "      <td>290</td>\n",
       "      <td>26</td>\n",
       "      <td>563</td>\n",
       "      <td>1000</td>\n",
       "      <td>16</td>\n",
       "    </tr>\n",
       "    <tr>\n",
       "      <th>3</th>\n",
       "      <td>1</td>\n",
       "      <td>399</td>\n",
       "      <td>451</td>\n",
       "      <td>457</td>\n",
       "      <td>583</td>\n",
       "      <td>583</td>\n",
       "      <td>998</td>\n",
       "      <td>796</td>\n",
       "      <td>808</td>\n",
       "      <td>303</td>\n",
       "      <td>...</td>\n",
       "      <td>739</td>\n",
       "      <td>3.0</td>\n",
       "      <td>622</td>\n",
       "      <td>583</td>\n",
       "      <td>834</td>\n",
       "      <td>281</td>\n",
       "      <td>26</td>\n",
       "      <td>564</td>\n",
       "      <td>1000</td>\n",
       "      <td>23</td>\n",
       "    </tr>\n",
       "    <tr>\n",
       "      <th>4</th>\n",
       "      <td>1</td>\n",
       "      <td>465</td>\n",
       "      <td>538</td>\n",
       "      <td>522</td>\n",
       "      <td>598</td>\n",
       "      <td>598</td>\n",
       "      <td>998</td>\n",
       "      <td>797</td>\n",
       "      <td>809</td>\n",
       "      <td>303</td>\n",
       "      <td>...</td>\n",
       "      <td>795</td>\n",
       "      <td>3.0</td>\n",
       "      <td>623</td>\n",
       "      <td>598</td>\n",
       "      <td>839</td>\n",
       "      <td>278</td>\n",
       "      <td>24</td>\n",
       "      <td>575</td>\n",
       "      <td>1000</td>\n",
       "      <td>35</td>\n",
       "    </tr>\n",
       "    <tr>\n",
       "      <th>5</th>\n",
       "      <td>1</td>\n",
       "      <td>388</td>\n",
       "      <td>415</td>\n",
       "      <td>419</td>\n",
       "      <td>590</td>\n",
       "      <td>590</td>\n",
       "      <td>998</td>\n",
       "      <td>796</td>\n",
       "      <td>808</td>\n",
       "      <td>303</td>\n",
       "      <td>...</td>\n",
       "      <td>710</td>\n",
       "      <td>5.0</td>\n",
       "      <td>622</td>\n",
       "      <td>590</td>\n",
       "      <td>829</td>\n",
       "      <td>285</td>\n",
       "      <td>26</td>\n",
       "      <td>564</td>\n",
       "      <td>1000</td>\n",
       "      <td>19</td>\n",
       "    </tr>\n",
       "    <tr>\n",
       "      <th>6</th>\n",
       "      <td>0</td>\n",
       "      <td>390</td>\n",
       "      <td>445</td>\n",
       "      <td>436</td>\n",
       "      <td>619</td>\n",
       "      <td>619</td>\n",
       "      <td>998</td>\n",
       "      <td>797</td>\n",
       "      <td>808</td>\n",
       "      <td>302</td>\n",
       "      <td>...</td>\n",
       "      <td>736</td>\n",
       "      <td>18.0</td>\n",
       "      <td>623</td>\n",
       "      <td>619</td>\n",
       "      <td>829</td>\n",
       "      <td>292</td>\n",
       "      <td>26</td>\n",
       "      <td>564</td>\n",
       "      <td>1000</td>\n",
       "      <td>15</td>\n",
       "    </tr>\n",
       "    <tr>\n",
       "      <th>7</th>\n",
       "      <td>0</td>\n",
       "      <td>508</td>\n",
       "      <td>570</td>\n",
       "      <td>559</td>\n",
       "      <td>601</td>\n",
       "      <td>601</td>\n",
       "      <td>999</td>\n",
       "      <td>797</td>\n",
       "      <td>809</td>\n",
       "      <td>303</td>\n",
       "      <td>...</td>\n",
       "      <td>815</td>\n",
       "      <td>10.0</td>\n",
       "      <td>623</td>\n",
       "      <td>601</td>\n",
       "      <td>841</td>\n",
       "      <td>278</td>\n",
       "      <td>27</td>\n",
       "      <td>566</td>\n",
       "      <td>1000</td>\n",
       "      <td>34</td>\n",
       "    </tr>\n",
       "    <tr>\n",
       "      <th>8</th>\n",
       "      <td>0</td>\n",
       "      <td>488</td>\n",
       "      <td>545</td>\n",
       "      <td>543</td>\n",
       "      <td>603</td>\n",
       "      <td>603</td>\n",
       "      <td>998</td>\n",
       "      <td>797</td>\n",
       "      <td>809</td>\n",
       "      <td>303</td>\n",
       "      <td>...</td>\n",
       "      <td>803</td>\n",
       "      <td>0.0</td>\n",
       "      <td>623</td>\n",
       "      <td>603</td>\n",
       "      <td>840</td>\n",
       "      <td>276</td>\n",
       "      <td>26</td>\n",
       "      <td>565</td>\n",
       "      <td>1000</td>\n",
       "      <td>65</td>\n",
       "    </tr>\n",
       "    <tr>\n",
       "      <th>9</th>\n",
       "      <td>0</td>\n",
       "      <td>495</td>\n",
       "      <td>550</td>\n",
       "      <td>542</td>\n",
       "      <td>599</td>\n",
       "      <td>599</td>\n",
       "      <td>999</td>\n",
       "      <td>797</td>\n",
       "      <td>809</td>\n",
       "      <td>303</td>\n",
       "      <td>...</td>\n",
       "      <td>804</td>\n",
       "      <td>5.0</td>\n",
       "      <td>623</td>\n",
       "      <td>599</td>\n",
       "      <td>840</td>\n",
       "      <td>279</td>\n",
       "      <td>27</td>\n",
       "      <td>566</td>\n",
       "      <td>1000</td>\n",
       "      <td>30</td>\n",
       "    </tr>\n",
       "  </tbody>\n",
       "</table>\n",
       "<p>10 rows × 96 columns</p>\n",
       "</div>"
      ],
      "text/plain": [
       "   Bankrupt   ROA(C) before interest and depreciation before interest  \\\n",
       "0         1                                                370          \n",
       "1         1                                                464          \n",
       "2         1                                                426          \n",
       "3         1                                                399          \n",
       "4         1                                                465          \n",
       "5         1                                                388          \n",
       "6         0                                                390          \n",
       "7         0                                                508          \n",
       "8         0                                                488          \n",
       "9         0                                                495          \n",
       "\n",
       "    ROA(A) before interest and % after tax  \\\n",
       "0                                      424   \n",
       "1                                      538   \n",
       "2                                      499   \n",
       "3                                      451   \n",
       "4                                      538   \n",
       "5                                      415   \n",
       "6                                      445   \n",
       "7                                      570   \n",
       "8                                      545   \n",
       "9                                      550   \n",
       "\n",
       "    ROA(B) before interest and depreciation after tax  \\\n",
       "0                                                405    \n",
       "1                                                516    \n",
       "2                                                472    \n",
       "3                                                457    \n",
       "4                                                522    \n",
       "5                                                419    \n",
       "6                                                436    \n",
       "7                                                559    \n",
       "8                                                543    \n",
       "9                                                542    \n",
       "\n",
       "    Operating Gross Margin   Realized Sales Gross Margin  \\\n",
       "0                      601                           601   \n",
       "1                      610                           610   \n",
       "2                      601                           601   \n",
       "3                      583                           583   \n",
       "4                      598                           598   \n",
       "5                      590                           590   \n",
       "6                      619                           619   \n",
       "7                      601                           601   \n",
       "8                      603                           603   \n",
       "9                      599                           599   \n",
       "\n",
       "    Operating Profit Rate   Pre-tax net Interest Rate  \\\n",
       "0                     998                         796   \n",
       "1                     998                         797   \n",
       "2                     998                         796   \n",
       "3                     998                         796   \n",
       "4                     998                         797   \n",
       "5                     998                         796   \n",
       "6                     998                         797   \n",
       "7                     999                         797   \n",
       "8                     998                         797   \n",
       "9                     999                         797   \n",
       "\n",
       "    After-tax net Interest Rate   Non-industry income and expenditure/revenue  \\\n",
       "0                           808                                           302   \n",
       "1                           809                                           303   \n",
       "2                           808                                           302   \n",
       "3                           808                                           303   \n",
       "4                           809                                           303   \n",
       "5                           808                                           303   \n",
       "6                           808                                           302   \n",
       "7                           809                                           303   \n",
       "8                           809                                           303   \n",
       "9                           809                                           303   \n",
       "\n",
       "   ...   Net Income to Total Assets   Total assets to GNP price  \\\n",
       "0  ...                          716                         9.0   \n",
       "1  ...                          795                         8.0   \n",
       "2  ...                          774                        40.0   \n",
       "3  ...                          739                         3.0   \n",
       "4  ...                          795                         3.0   \n",
       "5  ...                          710                         5.0   \n",
       "6  ...                          736                        18.0   \n",
       "7  ...                          815                        10.0   \n",
       "8  ...                          803                         0.0   \n",
       "9  ...                          804                         5.0   \n",
       "\n",
       "    No-credit Interval   Gross Profit to Sales  \\\n",
       "0                  622                     601   \n",
       "1                  623                     610   \n",
       "2                  623                     601   \n",
       "3                  622                     583   \n",
       "4                  623                     598   \n",
       "5                  622                     590   \n",
       "6                  623                     619   \n",
       "7                  623                     601   \n",
       "8                  623                     603   \n",
       "9                  623                     599   \n",
       "\n",
       "    Net Income to Stockholder's Equity   Liability to Equity  \\\n",
       "0                                  827                   290   \n",
       "1                                  839                   283   \n",
       "2                                  836                   290   \n",
       "3                                  834                   281   \n",
       "4                                  839                   278   \n",
       "5                                  829                   285   \n",
       "6                                  829                   292   \n",
       "7                                  841                   278   \n",
       "8                                  840                   276   \n",
       "9                                  840                   279   \n",
       "\n",
       "    Degree of Financial Leverage (DFL)  \\\n",
       "0                                   26   \n",
       "1                                  264   \n",
       "2                                   26   \n",
       "3                                   26   \n",
       "4                                   24   \n",
       "5                                   26   \n",
       "6                                   26   \n",
       "7                                   27   \n",
       "8                                   26   \n",
       "9                                   27   \n",
       "\n",
       "    Interest Coverage Ratio (Interest expense to EBIT)   Net Income Flag  \\\n",
       "0                                                564                1000   \n",
       "1                                                570                1000   \n",
       "2                                                563                1000   \n",
       "3                                                564                1000   \n",
       "4                                                575                1000   \n",
       "5                                                564                1000   \n",
       "6                                                564                1000   \n",
       "7                                                566                1000   \n",
       "8                                                565                1000   \n",
       "9                                                566                1000   \n",
       "\n",
       "    Equity to Liability  \n",
       "0                    16  \n",
       "1                    20  \n",
       "2                    16  \n",
       "3                    23  \n",
       "4                    35  \n",
       "5                    19  \n",
       "6                    15  \n",
       "7                    34  \n",
       "8                    65  \n",
       "9                    30  \n",
       "\n",
       "[10 rows x 96 columns]"
      ]
     },
     "execution_count": 11,
     "metadata": {},
     "output_type": "execute_result"
    }
   ],
   "source": [
    "df = pd.read_csv('.../FinancialData.csv')\n",
    "df.head(10)"
   ]
  },
  {
   "cell_type": "markdown",
   "id": "9c607e48",
   "metadata": {},
   "source": [
    "## Explore and Clean the dataset"
   ]
  },
  {
   "cell_type": "markdown",
   "id": "35637a80",
   "metadata": {},
   "source": [
    "Exploring the columns"
   ]
  },
  {
   "cell_type": "code",
   "execution_count": 12,
   "id": "b30b98f5",
   "metadata": {},
   "outputs": [
    {
     "data": {
      "text/plain": [
       "Index(['Bankrupt', ' ROA(C) before interest and depreciation before interest',\n",
       "       ' ROA(A) before interest and % after tax',\n",
       "       ' ROA(B) before interest and depreciation after tax',\n",
       "       ' Operating Gross Margin', ' Realized Sales Gross Margin',\n",
       "       ' Operating Profit Rate', ' Pre-tax net Interest Rate',\n",
       "       ' After-tax net Interest Rate',\n",
       "       ' Non-industry income and expenditure/revenue',\n",
       "       ' Continuous interest rate (after tax)', ' Operating Expense Rate',\n",
       "       ' Research and development expense rate', ' Cash flow rate',\n",
       "       ' Interest-bearing debt interest rate', ' Tax rate (A)',\n",
       "       ' Net Value Per Share (B)', ' Net Value Per Share (A)',\n",
       "       ' Net Value Per Share (C)', ' Persistent EPS in the Last Four Seasons',\n",
       "       ' Cash Flow Per Share', ' Revenue Per Share (Yuan ¥)',\n",
       "       ' Operating Profit Per Share (Yuan ¥)',\n",
       "       ' Per Share Net profit before tax (Yuan ¥)',\n",
       "       ' Realized Sales Gross Profit Growth Rate',\n",
       "       ' Operating Profit Growth Rate', ' After-tax Net Profit Growth Rate',\n",
       "       ' Regular Net Profit Growth Rate', ' Continuous Net Profit Growth Rate',\n",
       "       ' Total Asset Growth Rate', ' Net Value Growth Rate',\n",
       "       ' Total Asset Return Growth Rate Ratio', ' Cash Reinvestment %',\n",
       "       ' Current Ratio', ' Quick Ratio', ' Interest Expense Ratio',\n",
       "       ' Total debt/Total net worth', ' Debt ratio %', ' Net worth/Assets',\n",
       "       ' Long-term fund suitability ratio (A)', ' Borrowing dependency',\n",
       "       ' Contingent liabilities/Net worth',\n",
       "       ' Operating profit/Paid-in capital',\n",
       "       ' Net profit before tax/Paid-in capital',\n",
       "       ' Inventory and accounts receivable/Net value', ' Total Asset Turnover',\n",
       "       ' Accounts Receivable Turnover', ' Average Collection Days',\n",
       "       ' Inventory Turnover Rate (times)', ' Fixed Assets Turnover Frequency',\n",
       "       ' Net Worth Turnover Rate (times)', ' Revenue per person',\n",
       "       ' Operating profit per person', ' Allocation rate per person',\n",
       "       ' Working Capital to Total Assets', ' Quick Assets/Total Assets',\n",
       "       ' Current Assets/Total Assets', ' Cash/Total Assets',\n",
       "       ' Quick Assets/Current Liability', ' Cash/Current Liability',\n",
       "       ' Current Liability to Assets', ' Operating Funds to Liability',\n",
       "       ' Inventory/Working Capital', ' Inventory/Current Liability',\n",
       "       ' Current Liabilities/Liability', ' Working Capital/Equity',\n",
       "       ' Current Liabilities/Equity', ' Long-term Liability to Current Assets',\n",
       "       ' Retained Earnings to Total Assets', ' Total income/Total expense',\n",
       "       ' Total expense/Assets', ' Current Asset Turnover Rate',\n",
       "       ' Quick Asset Turnover Rate', ' Working capitcal Turnover Rate',\n",
       "       ' Cash Turnover Rate', ' Cash Flow to Sales', ' Fixed Assets to Assets',\n",
       "       ' Current Liability to Liability', ' Current Liability to Equity',\n",
       "       ' Equity to Long-term Liability', ' Cash Flow to Total Assets',\n",
       "       ' Cash Flow to Liability', ' CFO to Assets', ' Cash Flow to Equity',\n",
       "       ' Current Liability to Current Assets', ' Liability-Assets Flag',\n",
       "       ' Net Income to Total Assets', ' Total assets to GNP price',\n",
       "       ' No-credit Interval', ' Gross Profit to Sales',\n",
       "       ' Net Income to Stockholder's Equity', ' Liability to Equity',\n",
       "       ' Degree of Financial Leverage (DFL)',\n",
       "       ' Interest Coverage Ratio (Interest expense to EBIT)',\n",
       "       ' Net Income Flag', ' Equity to Liability'],\n",
       "      dtype='object')"
      ]
     },
     "execution_count": 12,
     "metadata": {},
     "output_type": "execute_result"
    }
   ],
   "source": [
    "df.columns"
   ]
  },
  {
   "cell_type": "markdown",
   "id": "59fb2337",
   "metadata": {},
   "source": [
    "Finding the datatypes of columns"
   ]
  },
  {
   "cell_type": "code",
   "execution_count": 13,
   "id": "097a31ab",
   "metadata": {},
   "outputs": [
    {
     "data": {
      "text/plain": [
       "Bankrupt                                                    int64\n",
       " ROA(C) before interest and depreciation before interest    int64\n",
       " ROA(A) before interest and % after tax                     int64\n",
       " ROA(B) before interest and depreciation after tax          int64\n",
       " Operating Gross Margin                                     int64\n",
       "                                                            ...  \n",
       " Liability to Equity                                        int64\n",
       " Degree of Financial Leverage (DFL)                         int64\n",
       " Interest Coverage Ratio (Interest expense to EBIT)         int64\n",
       " Net Income Flag                                            int64\n",
       " Equity to Liability                                        int64\n",
       "Length: 96, dtype: object"
      ]
     },
     "execution_count": 13,
     "metadata": {},
     "output_type": "execute_result"
    }
   ],
   "source": [
    "df.dtypes"
   ]
  },
  {
   "cell_type": "markdown",
   "id": "f4848cca",
   "metadata": {},
   "source": [
    "Checking for any null values"
   ]
  },
  {
   "cell_type": "code",
   "execution_count": 14,
   "id": "4a54ed8b",
   "metadata": {
    "scrolled": true
   },
   "outputs": [
    {
     "data": {
      "text/plain": [
       "Bankrupt                                                    0\n",
       " ROA(C) before interest and depreciation before interest    0\n",
       " ROA(A) before interest and % after tax                     0\n",
       " ROA(B) before interest and depreciation after tax          0\n",
       " Operating Gross Margin                                     0\n",
       "                                                           ..\n",
       " Liability to Equity                                        0\n",
       " Degree of Financial Leverage (DFL)                         0\n",
       " Interest Coverage Ratio (Interest expense to EBIT)         0\n",
       " Net Income Flag                                            0\n",
       " Equity to Liability                                        0\n",
       "Length: 96, dtype: int64"
      ]
     },
     "execution_count": 14,
     "metadata": {},
     "output_type": "execute_result"
    }
   ],
   "source": [
    "df.isnull().sum()"
   ]
  },
  {
   "cell_type": "markdown",
   "id": "22576806",
   "metadata": {},
   "source": [
    "Renaming the column for further use"
   ]
  },
  {
   "cell_type": "code",
   "execution_count": 15,
   "id": "061259e0",
   "metadata": {},
   "outputs": [],
   "source": [
    "df.columns = [s.strip().upper().replace(' ', '_') for s in df.columns] "
   ]
  },
  {
   "cell_type": "markdown",
   "id": "e041df46",
   "metadata": {},
   "source": [
    "Checking the column names after the change"
   ]
  },
  {
   "cell_type": "code",
   "execution_count": 16,
   "id": "a7ee194f",
   "metadata": {
    "scrolled": true
   },
   "outputs": [
    {
     "name": "stdout",
     "output_type": "stream",
     "text": [
      "BANKRUPT\n",
      "ROA(C)_BEFORE_INTEREST_AND_DEPRECIATION_BEFORE_INTEREST\n",
      "ROA(A)_BEFORE_INTEREST_AND_%_AFTER_TAX\n",
      "ROA(B)_BEFORE_INTEREST_AND_DEPRECIATION_AFTER_TAX\n",
      "OPERATING_GROSS_MARGIN\n",
      "REALIZED_SALES_GROSS_MARGIN\n",
      "OPERATING_PROFIT_RATE\n",
      "PRE-TAX_NET_INTEREST_RATE\n",
      "AFTER-TAX_NET_INTEREST_RATE\n",
      "NON-INDUSTRY_INCOME_AND_EXPENDITURE/REVENUE\n",
      "CONTINUOUS_INTEREST_RATE_(AFTER_TAX)\n",
      "OPERATING_EXPENSE_RATE\n",
      "RESEARCH_AND_DEVELOPMENT_EXPENSE_RATE\n",
      "CASH_FLOW_RATE\n",
      "INTEREST-BEARING_DEBT_INTEREST_RATE\n",
      "TAX_RATE_(A)\n",
      "NET_VALUE_PER_SHARE_(B)\n",
      "NET_VALUE_PER_SHARE_(A)\n",
      "NET_VALUE_PER_SHARE_(C)\n",
      "PERSISTENT_EPS_IN_THE_LAST_FOUR_SEASONS\n",
      "CASH_FLOW_PER_SHARE\n",
      "REVENUE_PER_SHARE_(YUAN_¥)\n",
      "OPERATING_PROFIT_PER_SHARE_(YUAN_¥)\n",
      "PER_SHARE_NET_PROFIT_BEFORE_TAX_(YUAN_¥)\n",
      "REALIZED_SALES_GROSS_PROFIT_GROWTH_RATE\n",
      "OPERATING_PROFIT_GROWTH_RATE\n",
      "AFTER-TAX_NET_PROFIT_GROWTH_RATE\n",
      "REGULAR_NET_PROFIT_GROWTH_RATE\n",
      "CONTINUOUS_NET_PROFIT_GROWTH_RATE\n",
      "TOTAL_ASSET_GROWTH_RATE\n",
      "NET_VALUE_GROWTH_RATE\n",
      "TOTAL_ASSET_RETURN_GROWTH_RATE_RATIO\n",
      "CASH_REINVESTMENT_%\n",
      "CURRENT_RATIO\n",
      "QUICK_RATIO\n",
      "INTEREST_EXPENSE_RATIO\n",
      "TOTAL_DEBT/TOTAL_NET_WORTH\n",
      "DEBT_RATIO_%\n",
      "NET_WORTH/ASSETS\n",
      "LONG-TERM_FUND_SUITABILITY_RATIO_(A)\n",
      "BORROWING_DEPENDENCY\n",
      "CONTINGENT_LIABILITIES/NET_WORTH\n",
      "OPERATING_PROFIT/PAID-IN_CAPITAL\n",
      "NET_PROFIT_BEFORE_TAX/PAID-IN_CAPITAL\n",
      "INVENTORY_AND_ACCOUNTS_RECEIVABLE/NET_VALUE\n",
      "TOTAL_ASSET_TURNOVER\n",
      "ACCOUNTS_RECEIVABLE_TURNOVER\n",
      "AVERAGE_COLLECTION_DAYS\n",
      "INVENTORY_TURNOVER_RATE_(TIMES)\n",
      "FIXED_ASSETS_TURNOVER_FREQUENCY\n",
      "NET_WORTH_TURNOVER_RATE_(TIMES)\n",
      "REVENUE_PER_PERSON\n",
      "OPERATING_PROFIT_PER_PERSON\n",
      "ALLOCATION_RATE_PER_PERSON\n",
      "WORKING_CAPITAL_TO_TOTAL_ASSETS\n",
      "QUICK_ASSETS/TOTAL_ASSETS\n",
      "CURRENT_ASSETS/TOTAL_ASSETS\n",
      "CASH/TOTAL_ASSETS\n",
      "QUICK_ASSETS/CURRENT_LIABILITY\n",
      "CASH/CURRENT_LIABILITY\n",
      "CURRENT_LIABILITY_TO_ASSETS\n",
      "OPERATING_FUNDS_TO_LIABILITY\n",
      "INVENTORY/WORKING_CAPITAL\n",
      "INVENTORY/CURRENT_LIABILITY\n",
      "CURRENT_LIABILITIES/LIABILITY\n",
      "WORKING_CAPITAL/EQUITY\n",
      "CURRENT_LIABILITIES/EQUITY\n",
      "LONG-TERM_LIABILITY_TO_CURRENT_ASSETS\n",
      "RETAINED_EARNINGS_TO_TOTAL_ASSETS\n",
      "TOTAL_INCOME/TOTAL_EXPENSE\n",
      "TOTAL_EXPENSE/ASSETS\n",
      "CURRENT_ASSET_TURNOVER_RATE\n",
      "QUICK_ASSET_TURNOVER_RATE\n",
      "WORKING_CAPITCAL_TURNOVER_RATE\n",
      "CASH_TURNOVER_RATE\n",
      "CASH_FLOW_TO_SALES\n",
      "FIXED_ASSETS_TO_ASSETS\n",
      "CURRENT_LIABILITY_TO_LIABILITY\n",
      "CURRENT_LIABILITY_TO_EQUITY\n",
      "EQUITY_TO_LONG-TERM_LIABILITY\n",
      "CASH_FLOW_TO_TOTAL_ASSETS\n",
      "CASH_FLOW_TO_LIABILITY\n",
      "CFO_TO_ASSETS\n",
      "CASH_FLOW_TO_EQUITY\n",
      "CURRENT_LIABILITY_TO_CURRENT_ASSETS\n",
      "LIABILITY-ASSETS_FLAG\n",
      "NET_INCOME_TO_TOTAL_ASSETS\n",
      "TOTAL_ASSETS_TO_GNP_PRICE\n",
      "NO-CREDIT_INTERVAL\n",
      "GROSS_PROFIT_TO_SALES\n",
      "NET_INCOME_TO_STOCKHOLDER'S_EQUITY\n",
      "LIABILITY_TO_EQUITY\n",
      "DEGREE_OF_FINANCIAL_LEVERAGE_(DFL)\n",
      "INTEREST_COVERAGE_RATIO_(INTEREST_EXPENSE_TO_EBIT)\n",
      "NET_INCOME_FLAG\n",
      "EQUITY_TO_LIABILITY\n"
     ]
    }
   ],
   "source": [
    "for name in df:\n",
    "    print(name)"
   ]
  },
  {
   "cell_type": "markdown",
   "id": "cc4d1ac3",
   "metadata": {},
   "source": [
    "## Predictors and Target variables Split"
   ]
  },
  {
   "cell_type": "code",
   "execution_count": 17,
   "id": "cbeb4ff8",
   "metadata": {},
   "outputs": [],
   "source": [
    "y = df.pop('BANKRUPT')\n",
    "X = df"
   ]
  },
  {
   "cell_type": "markdown",
   "id": "8c795cb7",
   "metadata": {},
   "source": [
    "## Partitioning data into training and test data sets"
   ]
  },
  {
   "cell_type": "markdown",
   "id": "cc3b64cb",
   "metadata": {},
   "source": [
    "We've decided to utilize a training/test split of the data at 70% training and 30% testing. This percentage split ratio is inline with common practice for small to medium sized datasets, which this data represents. Moreover, we have decided not to do a three way data split, as we are only testing two models and we wish to allocated as much data as possible to training and validation steps."
   ]
  },
  {
   "cell_type": "code",
   "execution_count": 18,
   "id": "88ac98b7",
   "metadata": {},
   "outputs": [],
   "source": [
    "X_train, X_test, y_train, y_test = train_test_split(X,y, test_size=0.3, random_state=1)"
   ]
  },
  {
   "cell_type": "markdown",
   "id": "6107f18c",
   "metadata": {},
   "source": [
    "Out of 96 columns, we are trying to get the columns which have major impact on the target variable "
   ]
  },
  {
   "cell_type": "markdown",
   "id": "63c35abb",
   "metadata": {},
   "source": [
    "Checking through the HeatMap"
   ]
  },
  {
   "cell_type": "code",
   "execution_count": 19,
   "id": "23f3869e",
   "metadata": {
    "scrolled": true
   },
   "outputs": [
    {
     "data": {
      "text/plain": [
       "<AxesSubplot:>"
      ]
     },
     "execution_count": 19,
     "metadata": {},
     "output_type": "execute_result"
    },
    {
     "data": {
      "image/png": "[encoded data removed]",
      "text/plain": [
       "<Figure size 792x792 with 2 Axes>"
      ]
     },
     "metadata": {
      "needs_background": "light"
     },
     "output_type": "display_data"
    }
   ],
   "source": [
    "import seaborn as sns\n",
    "corrmat = X_train.corr()\n",
    "fig, ax = plt.subplots()\n",
    "fig.set_size_inches(11,11)\n",
    "sns.heatmap(corrmat)"
   ]
  },
  {
   "cell_type": "markdown",
   "id": "354fe29c",
   "metadata": {},
   "source": [
    "Checking the correlation and picking the name of the impact variables"
   ]
  },
  {
   "cell_type": "code",
   "execution_count": 20,
   "id": "49ab7a9b",
   "metadata": {},
   "outputs": [],
   "source": [
    "def correlation(dataset, threshold):\n",
    "    col_corr = set() \n",
    "    corr_matrix = dataset.corr()\n",
    "    for i in range(len(corr_matrix.columns)):\n",
    "        for j in range(i):\n",
    "            if abs(corr_matrix.iloc[i, j]) > threshold: # only interested in absolute coeff value\n",
    "                colname = corr_matrix.columns[i]  # picking the name of column\n",
    "                col_corr.add(colname)\n",
    "    return col_corr"
   ]
  },
  {
   "cell_type": "code",
   "execution_count": 21,
   "id": "08df67d1",
   "metadata": {},
   "outputs": [
    {
     "data": {
      "text/plain": [
       "30"
      ]
     },
     "execution_count": 21,
     "metadata": {},
     "output_type": "execute_result"
    }
   ],
   "source": [
    "corr_features = correlation(X_train, 0.75)\n",
    "len(set(corr_features))"
   ]
  },
  {
   "cell_type": "markdown",
   "id": "c7ead816",
   "metadata": {},
   "source": [
    "Printing the necessary columns"
   ]
  },
  {
   "cell_type": "code",
   "execution_count": 22,
   "id": "b2770101",
   "metadata": {},
   "outputs": [
    {
     "data": {
      "text/plain": [
       "{'AFTER-TAX_NET_INTEREST_RATE',\n",
       " 'CONTINUOUS_INTEREST_RATE_(AFTER_TAX)',\n",
       " 'CURRENT_ASSETS/TOTAL_ASSETS',\n",
       " 'CURRENT_LIABILITIES/EQUITY',\n",
       " 'CURRENT_LIABILITY_TO_ASSETS',\n",
       " 'CURRENT_LIABILITY_TO_EQUITY',\n",
       " 'CURRENT_LIABILITY_TO_LIABILITY',\n",
       " 'EQUITY_TO_LONG-TERM_LIABILITY',\n",
       " 'GROSS_PROFIT_TO_SALES',\n",
       " 'LIABILITY_TO_EQUITY',\n",
       " \"NET_INCOME_TO_STOCKHOLDER'S_EQUITY\",\n",
       " 'NET_INCOME_TO_TOTAL_ASSETS',\n",
       " 'NET_PROFIT_BEFORE_TAX/PAID-IN_CAPITAL',\n",
       " 'NET_VALUE_PER_SHARE_(A)',\n",
       " 'NET_VALUE_PER_SHARE_(C)',\n",
       " 'NET_WORTH/ASSETS',\n",
       " 'NET_WORTH_TURNOVER_RATE_(TIMES)',\n",
       " 'NON-INDUSTRY_INCOME_AND_EXPENDITURE/REVENUE',\n",
       " 'OPERATING_FUNDS_TO_LIABILITY',\n",
       " 'OPERATING_PROFIT/PAID-IN_CAPITAL',\n",
       " 'OPERATING_PROFIT_PER_SHARE_(YUAN_¥)',\n",
       " 'PERSISTENT_EPS_IN_THE_LAST_FOUR_SEASONS',\n",
       " 'PER_SHARE_NET_PROFIT_BEFORE_TAX_(YUAN_¥)',\n",
       " 'REALIZED_SALES_GROSS_MARGIN',\n",
       " 'REGULAR_NET_PROFIT_GROWTH_RATE',\n",
       " 'REVENUE_PER_PERSON',\n",
       " 'ROA(A)_BEFORE_INTEREST_AND_%_AFTER_TAX',\n",
       " 'ROA(B)_BEFORE_INTEREST_AND_DEPRECIATION_AFTER_TAX',\n",
       " 'TOTAL_ASSET_RETURN_GROWTH_RATE_RATIO',\n",
       " 'WORKING_CAPITAL/EQUITY'}"
      ]
     },
     "execution_count": 22,
     "metadata": {},
     "output_type": "execute_result"
    }
   ],
   "source": [
    "corr_features"
   ]
  },
  {
   "cell_type": "markdown",
   "id": "62353465",
   "metadata": {},
   "source": [
    "## Drop the unnecessary columns"
   ]
  },
  {
   "cell_type": "code",
   "execution_count": 23,
   "id": "ddd8264f",
   "metadata": {
    "scrolled": true
   },
   "outputs": [
    {
     "data": {
      "text/html": [
       "<div>\n",
       "<style scoped>\n",
       "    .dataframe tbody tr th:only-of-type {\n",
       "        vertical-align: middle;\n",
       "    }\n",
       "\n",
       "    .dataframe tbody tr th {\n",
       "        vertical-align: top;\n",
       "    }\n",
       "\n",
       "    .dataframe thead th {\n",
       "        text-align: right;\n",
       "    }\n",
       "</style>\n",
       "<table border=\"1\" class=\"dataframe\">\n",
       "  <thead>\n",
       "    <tr style=\"text-align: right;\">\n",
       "      <th></th>\n",
       "      <th>ROA(C)_BEFORE_INTEREST_AND_DEPRECIATION_BEFORE_INTEREST</th>\n",
       "      <th>OPERATING_GROSS_MARGIN</th>\n",
       "      <th>OPERATING_PROFIT_RATE</th>\n",
       "      <th>PRE-TAX_NET_INTEREST_RATE</th>\n",
       "      <th>OPERATING_EXPENSE_RATE</th>\n",
       "      <th>RESEARCH_AND_DEVELOPMENT_EXPENSE_RATE</th>\n",
       "      <th>CASH_FLOW_RATE</th>\n",
       "      <th>INTEREST-BEARING_DEBT_INTEREST_RATE</th>\n",
       "      <th>TAX_RATE_(A)</th>\n",
       "      <th>NET_VALUE_PER_SHARE_(B)</th>\n",
       "      <th>...</th>\n",
       "      <th>CFO_TO_ASSETS</th>\n",
       "      <th>CASH_FLOW_TO_EQUITY</th>\n",
       "      <th>CURRENT_LIABILITY_TO_CURRENT_ASSETS</th>\n",
       "      <th>LIABILITY-ASSETS_FLAG</th>\n",
       "      <th>TOTAL_ASSETS_TO_GNP_PRICE</th>\n",
       "      <th>NO-CREDIT_INTERVAL</th>\n",
       "      <th>DEGREE_OF_FINANCIAL_LEVERAGE_(DFL)</th>\n",
       "      <th>INTEREST_COVERAGE_RATIO_(INTEREST_EXPENSE_TO_EBIT)</th>\n",
       "      <th>NET_INCOME_FLAG</th>\n",
       "      <th>EQUITY_TO_LIABILITY</th>\n",
       "    </tr>\n",
       "  </thead>\n",
       "  <tbody>\n",
       "    <tr>\n",
       "      <th>313</th>\n",
       "      <td>477</td>\n",
       "      <td>601</td>\n",
       "      <td>998</td>\n",
       "      <td>797</td>\n",
       "      <td>0.000000e+00</td>\n",
       "      <td>9.680000e+11</td>\n",
       "      <td>464</td>\n",
       "      <td>0.000000e+00</td>\n",
       "      <td>56</td>\n",
       "      <td>196</td>\n",
       "      <td>...</td>\n",
       "      <td>583</td>\n",
       "      <td>314</td>\n",
       "      <td>18</td>\n",
       "      <td>0</td>\n",
       "      <td>2.0</td>\n",
       "      <td>624</td>\n",
       "      <td>26</td>\n",
       "      <td>565</td>\n",
       "      <td>1000</td>\n",
       "      <td>47</td>\n",
       "    </tr>\n",
       "    <tr>\n",
       "      <th>6724</th>\n",
       "      <td>471</td>\n",
       "      <td>597</td>\n",
       "      <td>998</td>\n",
       "      <td>797</td>\n",
       "      <td>5.820000e+12</td>\n",
       "      <td>2.070000e+12</td>\n",
       "      <td>464</td>\n",
       "      <td>0.000000e+00</td>\n",
       "      <td>0</td>\n",
       "      <td>196</td>\n",
       "      <td>...</td>\n",
       "      <td>604</td>\n",
       "      <td>314</td>\n",
       "      <td>35</td>\n",
       "      <td>0</td>\n",
       "      <td>3.0</td>\n",
       "      <td>623</td>\n",
       "      <td>28</td>\n",
       "      <td>568</td>\n",
       "      <td>1000</td>\n",
       "      <td>28</td>\n",
       "    </tr>\n",
       "    <tr>\n",
       "      <th>4494</th>\n",
       "      <td>455</td>\n",
       "      <td>606</td>\n",
       "      <td>998</td>\n",
       "      <td>797</td>\n",
       "      <td>0.000000e+00</td>\n",
       "      <td>0.000000e+00</td>\n",
       "      <td>462</td>\n",
       "      <td>0.000000e+00</td>\n",
       "      <td>0</td>\n",
       "      <td>175</td>\n",
       "      <td>...</td>\n",
       "      <td>575</td>\n",
       "      <td>318</td>\n",
       "      <td>33</td>\n",
       "      <td>0</td>\n",
       "      <td>16.0</td>\n",
       "      <td>623</td>\n",
       "      <td>26</td>\n",
       "      <td>564</td>\n",
       "      <td>1000</td>\n",
       "      <td>26</td>\n",
       "    </tr>\n",
       "    <tr>\n",
       "      <th>5422</th>\n",
       "      <td>491</td>\n",
       "      <td>602</td>\n",
       "      <td>999</td>\n",
       "      <td>797</td>\n",
       "      <td>0.000000e+00</td>\n",
       "      <td>1.700000e+12</td>\n",
       "      <td>464</td>\n",
       "      <td>8.700000e+11</td>\n",
       "      <td>202</td>\n",
       "      <td>177</td>\n",
       "      <td>...</td>\n",
       "      <td>583</td>\n",
       "      <td>317</td>\n",
       "      <td>24</td>\n",
       "      <td>0</td>\n",
       "      <td>1.0</td>\n",
       "      <td>625</td>\n",
       "      <td>26</td>\n",
       "      <td>565</td>\n",
       "      <td>1000</td>\n",
       "      <td>28</td>\n",
       "    </tr>\n",
       "    <tr>\n",
       "      <th>2754</th>\n",
       "      <td>506</td>\n",
       "      <td>602</td>\n",
       "      <td>999</td>\n",
       "      <td>797</td>\n",
       "      <td>9.070000e+12</td>\n",
       "      <td>2.210000e+11</td>\n",
       "      <td>464</td>\n",
       "      <td>0.000000e+00</td>\n",
       "      <td>405</td>\n",
       "      <td>175</td>\n",
       "      <td>...</td>\n",
       "      <td>594</td>\n",
       "      <td>315</td>\n",
       "      <td>30</td>\n",
       "      <td>0</td>\n",
       "      <td>1.0</td>\n",
       "      <td>623</td>\n",
       "      <td>27</td>\n",
       "      <td>566</td>\n",
       "      <td>1000</td>\n",
       "      <td>33</td>\n",
       "    </tr>\n",
       "    <tr>\n",
       "      <th>...</th>\n",
       "      <td>...</td>\n",
       "      <td>...</td>\n",
       "      <td>...</td>\n",
       "      <td>...</td>\n",
       "      <td>...</td>\n",
       "      <td>...</td>\n",
       "      <td>...</td>\n",
       "      <td>...</td>\n",
       "      <td>...</td>\n",
       "      <td>...</td>\n",
       "      <td>...</td>\n",
       "      <td>...</td>\n",
       "      <td>...</td>\n",
       "      <td>...</td>\n",
       "      <td>...</td>\n",
       "      <td>...</td>\n",
       "      <td>...</td>\n",
       "      <td>...</td>\n",
       "      <td>...</td>\n",
       "      <td>...</td>\n",
       "      <td>...</td>\n",
       "    </tr>\n",
       "    <tr>\n",
       "      <th>4992</th>\n",
       "      <td>539</td>\n",
       "      <td>611</td>\n",
       "      <td>999</td>\n",
       "      <td>797</td>\n",
       "      <td>0.000000e+00</td>\n",
       "      <td>5.870000e+12</td>\n",
       "      <td>476</td>\n",
       "      <td>0.000000e+00</td>\n",
       "      <td>91</td>\n",
       "      <td>230</td>\n",
       "      <td>...</td>\n",
       "      <td>639</td>\n",
       "      <td>328</td>\n",
       "      <td>14</td>\n",
       "      <td>0</td>\n",
       "      <td>1.0</td>\n",
       "      <td>624</td>\n",
       "      <td>26</td>\n",
       "      <td>565</td>\n",
       "      <td>1000</td>\n",
       "      <td>70</td>\n",
       "    </tr>\n",
       "    <tr>\n",
       "      <th>1331</th>\n",
       "      <td>476</td>\n",
       "      <td>597</td>\n",
       "      <td>998</td>\n",
       "      <td>797</td>\n",
       "      <td>5.050000e+12</td>\n",
       "      <td>0.000000e+00</td>\n",
       "      <td>461</td>\n",
       "      <td>0.000000e+00</td>\n",
       "      <td>239</td>\n",
       "      <td>181</td>\n",
       "      <td>...</td>\n",
       "      <td>562</td>\n",
       "      <td>311</td>\n",
       "      <td>40</td>\n",
       "      <td>0</td>\n",
       "      <td>1.0</td>\n",
       "      <td>623</td>\n",
       "      <td>27</td>\n",
       "      <td>567</td>\n",
       "      <td>1000</td>\n",
       "      <td>20</td>\n",
       "    </tr>\n",
       "    <tr>\n",
       "      <th>6372</th>\n",
       "      <td>480</td>\n",
       "      <td>595</td>\n",
       "      <td>998</td>\n",
       "      <td>797</td>\n",
       "      <td>2.790000e+12</td>\n",
       "      <td>4.750000e+11</td>\n",
       "      <td>462</td>\n",
       "      <td>0.000000e+00</td>\n",
       "      <td>186</td>\n",
       "      <td>229</td>\n",
       "      <td>...</td>\n",
       "      <td>583</td>\n",
       "      <td>315</td>\n",
       "      <td>33</td>\n",
       "      <td>0</td>\n",
       "      <td>13.0</td>\n",
       "      <td>622</td>\n",
       "      <td>27</td>\n",
       "      <td>566</td>\n",
       "      <td>1000</td>\n",
       "      <td>18</td>\n",
       "    </tr>\n",
       "    <tr>\n",
       "      <th>6715</th>\n",
       "      <td>521</td>\n",
       "      <td>601</td>\n",
       "      <td>999</td>\n",
       "      <td>797</td>\n",
       "      <td>5.750000e+12</td>\n",
       "      <td>3.820000e+12</td>\n",
       "      <td>470</td>\n",
       "      <td>0.000000e+00</td>\n",
       "      <td>224</td>\n",
       "      <td>228</td>\n",
       "      <td>...</td>\n",
       "      <td>629</td>\n",
       "      <td>313</td>\n",
       "      <td>22</td>\n",
       "      <td>0</td>\n",
       "      <td>2.0</td>\n",
       "      <td>624</td>\n",
       "      <td>26</td>\n",
       "      <td>565</td>\n",
       "      <td>1000</td>\n",
       "      <td>47</td>\n",
       "    </tr>\n",
       "    <tr>\n",
       "      <th>1865</th>\n",
       "      <td>207</td>\n",
       "      <td>599</td>\n",
       "      <td>998</td>\n",
       "      <td>796</td>\n",
       "      <td>0.000000e+00</td>\n",
       "      <td>3.960000e+12</td>\n",
       "      <td>457</td>\n",
       "      <td>0.000000e+00</td>\n",
       "      <td>0</td>\n",
       "      <td>126</td>\n",
       "      <td>...</td>\n",
       "      <td>465</td>\n",
       "      <td>255</td>\n",
       "      <td>75</td>\n",
       "      <td>0</td>\n",
       "      <td>1.0</td>\n",
       "      <td>623</td>\n",
       "      <td>26</td>\n",
       "      <td>565</td>\n",
       "      <td>1000</td>\n",
       "      <td>10</td>\n",
       "    </tr>\n",
       "  </tbody>\n",
       "</table>\n",
       "<p>2046 rows × 65 columns</p>\n",
       "</div>"
      ],
      "text/plain": [
       "      ROA(C)_BEFORE_INTEREST_AND_DEPRECIATION_BEFORE_INTEREST  \\\n",
       "313                                                 477         \n",
       "6724                                                471         \n",
       "4494                                                455         \n",
       "5422                                                491         \n",
       "2754                                                506         \n",
       "...                                                 ...         \n",
       "4992                                                539         \n",
       "1331                                                476         \n",
       "6372                                                480         \n",
       "6715                                                521         \n",
       "1865                                                207         \n",
       "\n",
       "      OPERATING_GROSS_MARGIN  OPERATING_PROFIT_RATE  \\\n",
       "313                      601                    998   \n",
       "6724                     597                    998   \n",
       "4494                     606                    998   \n",
       "5422                     602                    999   \n",
       "2754                     602                    999   \n",
       "...                      ...                    ...   \n",
       "4992                     611                    999   \n",
       "1331                     597                    998   \n",
       "6372                     595                    998   \n",
       "6715                     601                    999   \n",
       "1865                     599                    998   \n",
       "\n",
       "      PRE-TAX_NET_INTEREST_RATE  OPERATING_EXPENSE_RATE  \\\n",
       "313                         797            0.000000e+00   \n",
       "6724                        797            5.820000e+12   \n",
       "4494                        797            0.000000e+00   \n",
       "5422                        797            0.000000e+00   \n",
       "2754                        797            9.070000e+12   \n",
       "...                         ...                     ...   \n",
       "4992                        797            0.000000e+00   \n",
       "1331                        797            5.050000e+12   \n",
       "6372                        797            2.790000e+12   \n",
       "6715                        797            5.750000e+12   \n",
       "1865                        796            0.000000e+00   \n",
       "\n",
       "      RESEARCH_AND_DEVELOPMENT_EXPENSE_RATE  CASH_FLOW_RATE  \\\n",
       "313                            9.680000e+11             464   \n",
       "6724                           2.070000e+12             464   \n",
       "4494                           0.000000e+00             462   \n",
       "5422                           1.700000e+12             464   \n",
       "2754                           2.210000e+11             464   \n",
       "...                                     ...             ...   \n",
       "4992                           5.870000e+12             476   \n",
       "1331                           0.000000e+00             461   \n",
       "6372                           4.750000e+11             462   \n",
       "6715                           3.820000e+12             470   \n",
       "1865                           3.960000e+12             457   \n",
       "\n",
       "      INTEREST-BEARING_DEBT_INTEREST_RATE  TAX_RATE_(A)  \\\n",
       "313                          0.000000e+00            56   \n",
       "6724                         0.000000e+00             0   \n",
       "4494                         0.000000e+00             0   \n",
       "5422                         8.700000e+11           202   \n",
       "2754                         0.000000e+00           405   \n",
       "...                                   ...           ...   \n",
       "4992                         0.000000e+00            91   \n",
       "1331                         0.000000e+00           239   \n",
       "6372                         0.000000e+00           186   \n",
       "6715                         0.000000e+00           224   \n",
       "1865                         0.000000e+00             0   \n",
       "\n",
       "      NET_VALUE_PER_SHARE_(B)  ...  CFO_TO_ASSETS  CASH_FLOW_TO_EQUITY  \\\n",
       "313                       196  ...            583                  314   \n",
       "6724                      196  ...            604                  314   \n",
       "4494                      175  ...            575                  318   \n",
       "5422                      177  ...            583                  317   \n",
       "2754                      175  ...            594                  315   \n",
       "...                       ...  ...            ...                  ...   \n",
       "4992                      230  ...            639                  328   \n",
       "1331                      181  ...            562                  311   \n",
       "6372                      229  ...            583                  315   \n",
       "6715                      228  ...            629                  313   \n",
       "1865                      126  ...            465                  255   \n",
       "\n",
       "      CURRENT_LIABILITY_TO_CURRENT_ASSETS  LIABILITY-ASSETS_FLAG  \\\n",
       "313                                    18                      0   \n",
       "6724                                   35                      0   \n",
       "4494                                   33                      0   \n",
       "5422                                   24                      0   \n",
       "2754                                   30                      0   \n",
       "...                                   ...                    ...   \n",
       "4992                                   14                      0   \n",
       "1331                                   40                      0   \n",
       "6372                                   33                      0   \n",
       "6715                                   22                      0   \n",
       "1865                                   75                      0   \n",
       "\n",
       "      TOTAL_ASSETS_TO_GNP_PRICE  NO-CREDIT_INTERVAL  \\\n",
       "313                         2.0                 624   \n",
       "6724                        3.0                 623   \n",
       "4494                       16.0                 623   \n",
       "5422                        1.0                 625   \n",
       "2754                        1.0                 623   \n",
       "...                         ...                 ...   \n",
       "4992                        1.0                 624   \n",
       "1331                        1.0                 623   \n",
       "6372                       13.0                 622   \n",
       "6715                        2.0                 624   \n",
       "1865                        1.0                 623   \n",
       "\n",
       "      DEGREE_OF_FINANCIAL_LEVERAGE_(DFL)  \\\n",
       "313                                   26   \n",
       "6724                                  28   \n",
       "4494                                  26   \n",
       "5422                                  26   \n",
       "2754                                  27   \n",
       "...                                  ...   \n",
       "4992                                  26   \n",
       "1331                                  27   \n",
       "6372                                  27   \n",
       "6715                                  26   \n",
       "1865                                  26   \n",
       "\n",
       "      INTEREST_COVERAGE_RATIO_(INTEREST_EXPENSE_TO_EBIT)  NET_INCOME_FLAG  \\\n",
       "313                                                 565              1000   \n",
       "6724                                                568              1000   \n",
       "4494                                                564              1000   \n",
       "5422                                                565              1000   \n",
       "2754                                                566              1000   \n",
       "...                                                 ...               ...   \n",
       "4992                                                565              1000   \n",
       "1331                                                567              1000   \n",
       "6372                                                566              1000   \n",
       "6715                                                565              1000   \n",
       "1865                                                565              1000   \n",
       "\n",
       "      EQUITY_TO_LIABILITY  \n",
       "313                    47  \n",
       "6724                   28  \n",
       "4494                   26  \n",
       "5422                   28  \n",
       "2754                   33  \n",
       "...                   ...  \n",
       "4992                   70  \n",
       "1331                   20  \n",
       "6372                   18  \n",
       "6715                   47  \n",
       "1865                   10  \n",
       "\n",
       "[2046 rows x 65 columns]"
      ]
     },
     "execution_count": 23,
     "metadata": {},
     "output_type": "execute_result"
    }
   ],
   "source": [
    "X_train.drop(corr_features,axis=1)\n",
    "X_test.drop(corr_features,axis=1)"
   ]
  },
  {
   "cell_type": "markdown",
   "id": "4d1822d6",
   "metadata": {},
   "source": [
    "### Address any data imbalances"
   ]
  },
  {
   "cell_type": "code",
   "execution_count": 24,
   "id": "f4031729",
   "metadata": {},
   "outputs": [
    {
     "data": {
      "text/plain": [
       "0    4624\n",
       "1     149\n",
       "Name: BANKRUPT, dtype: int64"
      ]
     },
     "execution_count": 24,
     "metadata": {},
     "output_type": "execute_result"
    }
   ],
   "source": [
    "y_train.value_counts()"
   ]
  },
  {
   "cell_type": "markdown",
   "id": "c60809d2",
   "metadata": {},
   "source": [
    "### Bargraph for the imbalanced data"
   ]
  },
  {
   "cell_type": "code",
   "execution_count": 25,
   "id": "9c60b6f2",
   "metadata": {
    "scrolled": true
   },
   "outputs": [
    {
     "data": {
      "image/png": "[encoded data removed]",
      "text/plain": [
       "<Figure size 432x288 with 1 Axes>"
      ]
     },
     "metadata": {
      "needs_background": "light"
     },
     "output_type": "display_data"
    }
   ],
   "source": [
    "import matplotlib.pyplot as plt\n",
    "count = y_train.value_counts()\n",
    "count.plot.bar()\n",
    "plt.ylabel('Number of records')\n",
    "plt.xlabel('Target Class')\n",
    "plt.show()"
   ]
  },
  {
   "cell_type": "markdown",
   "id": "cafc3a13",
   "metadata": {},
   "source": [
    "# Data Balancing"
   ]
  },
  {
   "cell_type": "markdown",
   "id": "bbe6454b",
   "metadata": {},
   "source": [
    "We will utilize an oversamplying technique to address any necessary date balancing."
   ]
  },
  {
   "cell_type": "code",
   "execution_count": 26,
   "id": "ab59a102",
   "metadata": {},
   "outputs": [
    {
     "data": {
      "text/plain": [
       "0    4624\n",
       "1    4624\n",
       "Name: BANKRUPT, dtype: int64"
      ]
     },
     "execution_count": 26,
     "metadata": {},
     "output_type": "execute_result"
    }
   ],
   "source": [
    "ros = RandomOverSampler(random_state=1)\n",
    "X_train, y_train = ros.fit_resample(X_train, y_train)\n",
    "y_train.value_counts()"
   ]
  },
  {
   "cell_type": "markdown",
   "id": "81eddcf1",
   "metadata": {},
   "source": [
    "### Bargraph for balanced data"
   ]
  },
  {
   "cell_type": "code",
   "execution_count": 27,
   "id": "29c54ddf",
   "metadata": {
    "scrolled": true
   },
   "outputs": [
    {
     "data": {
      "image/png": "[encoded data removed]",
      "text/plain": [
       "<Figure size 432x288 with 1 Axes>"
      ]
     },
     "metadata": {
      "needs_background": "light"
     },
     "output_type": "display_data"
    }
   ],
   "source": [
    "import matplotlib.pyplot as plt\n",
    "count = y_train.value_counts()\n",
    "count.plot.bar()\n",
    "plt.ylabel('Number of records')\n",
    "plt.xlabel('Target Class')\n",
    "plt.show()"
   ]
  },
  {
   "cell_type": "markdown",
   "id": "e620e9fa",
   "metadata": {},
   "source": [
    "Transform the values of train and test predictors"
   ]
  },
  {
   "cell_type": "code",
   "execution_count": 28,
   "id": "fa68ebd0",
   "metadata": {},
   "outputs": [],
   "source": [
    "scaler = StandardScaler()\n",
    "scaler.fit(X_train)\n",
    "X_train = scaler.transform(X_train)\n",
    "X_test = scaler.transform(X_test)"
   ]
  },
  {
   "cell_type": "markdown",
   "id": "de84bb2b",
   "metadata": {},
   "source": [
    "# KNN using default parameters"
   ]
  },
  {
   "cell_type": "code",
   "execution_count": 26,
   "id": "1f86b0ac",
   "metadata": {},
   "outputs": [
    {
     "data": {
      "text/plain": [
       "KNeighborsClassifier(metric='euclidean', n_neighbors=96)"
      ]
     },
     "execution_count": 26,
     "metadata": {},
     "output_type": "execute_result"
    }
   ],
   "source": [
    "knn = KNeighborsClassifier(n_neighbors=int(len(X_train)**0.5),  metric='euclidean') # user euclidean distance\n",
    "knn.fit(X_train, y_train)"
   ]
  },
  {
   "cell_type": "markdown",
   "id": "46213e40",
   "metadata": {},
   "source": [
    "## Train a k-NN model \n",
    "\n",
    "Since we know the k-NN models are very sensitive to differences in scale, we have rescaled our variables before fitting the model."
   ]
  },
  {
   "cell_type": "code",
   "execution_count": 27,
   "id": "05c3781e",
   "metadata": {},
   "outputs": [
    {
     "data": {
      "text/plain": [
       "{0: 1628, 1: 418}"
      ]
     },
     "execution_count": 27,
     "metadata": {},
     "output_type": "execute_result"
    }
   ],
   "source": [
    "knn = KNeighborsClassifier(n_neighbors = int(len(y_train)**(1/2)), metric='euclidean')\n",
    "knn.fit(X_train, y_train)\n",
    "y_pred = knn.predict(X_test)\n",
    "unique, counts = np.unique(y_pred, return_counts=True)\n",
    "dict(zip(unique, counts))"
   ]
  },
  {
   "cell_type": "markdown",
   "id": "811e2dc5",
   "metadata": {},
   "source": [
    "Checking for confusion matrix values"
   ]
  },
  {
   "cell_type": "code",
   "execution_count": 28,
   "id": "f9fe7f36",
   "metadata": {},
   "outputs": [
    {
     "data": {
      "text/plain": [
       "array([[1616,  359],\n",
       "       [  12,   59]], dtype=int64)"
      ]
     },
     "execution_count": 28,
     "metadata": {},
     "output_type": "execute_result"
    }
   ],
   "source": [
    "confusion = confusion_matrix(y_test, y_pred)\n",
    "confusion"
   ]
  },
  {
   "cell_type": "code",
   "execution_count": 29,
   "id": "f95d9c2e",
   "metadata": {},
   "outputs": [],
   "source": [
    "TP = confusion[1, 1] # True Positives\n",
    "TN = confusion[0, 0] # True Negatives\n",
    "FP = confusion[0, 1] # False Positives\n",
    "FN = confusion[1, 0] # False Negatives"
   ]
  },
  {
   "cell_type": "markdown",
   "id": "a0ebad72",
   "metadata": {},
   "source": [
    "Predicting the values of Recall, Accuracy, Precision and F1 Score."
   ]
  },
  {
   "cell_type": "markdown",
   "id": "00959995",
   "metadata": {},
   "source": [
    "Why Recall? \n",
    "Selection of “Recall’’ as a deciding parameter here, is because we think that the FN case has a greater impact on the scenario as compared with the FP case. i.e. Our model is predicting the company will not go bankrupt and in actuality, it will go bankrupt in this case the insurance company will have to pay for the losses. "
   ]
  },
  {
   "cell_type": "code",
   "execution_count": 30,
   "id": "ce9645ec",
   "metadata": {},
   "outputs": [
    {
     "name": "stdout",
     "output_type": "stream",
     "text": [
      "*************************************\n",
      "Recall Score:     0.8309859154929577\n",
      "*************************************\n",
      "Accuracy Score:   0.8186705767350929\n",
      "Precision Score:  0.14114832535885166\n",
      "F1 Score:         0.24130879345603268\n",
      "*************************************\n"
     ]
    }
   ],
   "source": [
    "y_pred = knn.predict(X_test)\n",
    "print(\"*************************************\")\n",
    "print(f\"{'Recall Score:':18}{recall_score(y_test, y_pred)}\")\n",
    "print(\"*************************************\")\n",
    "print(f\"{'Accuracy Score: ':18}{accuracy_score(y_test, y_pred)}\")\n",
    "print(f\"{'Precision Score: ':18}{precision_score(y_test, y_pred)}\")\n",
    "print(f\"{'F1 Score: ':18}{f1_score(y_test, y_pred)}\")\n",
    "print(\"*************************************\")"
   ]
  },
  {
   "cell_type": "markdown",
   "id": "b44202ca",
   "metadata": {},
   "source": [
    "# KNN with hyperparameter tuning"
   ]
  },
  {
   "cell_type": "code",
   "execution_count": 31,
   "id": "d2abcb47",
   "metadata": {},
   "outputs": [
    {
     "name": "stdout",
     "output_type": "stream",
     "text": [
      "for k = 1 model profit recall is 26.7606\n",
      "for k = 3 model profit recall is 38.0282\n",
      "for k = 5 model profit recall is 45.0704\n",
      "for k = 7 model profit recall is 49.2958\n",
      "for k = 9 model profit recall is 52.1127\n",
      "for k = 11 model profit recall is 52.1127\n",
      "for k = 13 model profit recall is 56.3380\n",
      "for k = 15 model profit recall is 60.5634\n",
      "for k = 17 model profit recall is 63.3803\n",
      "for k = 19 model profit recall is 66.1972\n",
      "for k = 21 model profit recall is 66.1972\n",
      "for k = 23 model profit recall is 71.8310\n",
      "for k = 25 model profit recall is 71.8310\n",
      "for k = 27 model profit recall is 73.2394\n",
      "for k = 29 model profit recall is 73.2394\n",
      "for k = 31 model profit recall is 73.2394\n",
      "for k = 33 model profit recall is 74.6479\n",
      "for k = 35 model profit recall is 74.6479\n",
      "for k = 37 model profit recall is 74.6479\n",
      "for k = 39 model profit recall is 77.4648\n",
      "for k = 41 model profit recall is 76.0563\n",
      "for k = 43 model profit recall is 77.4648\n",
      "for k = 45 model profit recall is 78.8732\n",
      "for k = 47 model profit recall is 80.2817\n",
      "for k = 49 model profit recall is 80.2817\n",
      "for k = 51 model profit recall is 81.6901\n",
      "for k = 53 model profit recall is 77.4648\n",
      "for k = 55 model profit recall is 78.8732\n",
      "for k = 57 model profit recall is 80.2817\n",
      "for k = 59 model profit recall is 81.6901\n",
      "for k = 61 model profit recall is 81.6901\n",
      "for k = 63 model profit recall is 80.2817\n",
      "for k = 65 model profit recall is 80.2817\n",
      "for k = 67 model profit recall is 78.8732\n",
      "for k = 69 model profit recall is 78.8732\n",
      "for k = 71 model profit recall is 78.8732\n",
      "for k = 73 model profit recall is 76.0563\n",
      "for k = 75 model profit recall is 78.8732\n",
      "for k = 77 model profit recall is 80.2817\n",
      "for k = 79 model profit recall is 81.6901\n",
      "for k = 81 model profit recall is 83.0986\n",
      "for k = 83 model profit recall is 83.0986\n",
      "for k = 85 model profit recall is 83.0986\n",
      "for k = 87 model profit recall is 83.0986\n",
      "for k = 89 model profit recall is 81.6901\n",
      "for k = 91 model profit recall is 81.6901\n",
      "for k = 93 model profit recall is 83.0986\n",
      "for k = 95 model profit recall is 83.0986\n",
      "for k = 97 model profit recall is 83.0986\n",
      "for k = 99 model profit recall is 81.6901\n",
      "for k = 101 model profit recall is 84.5070\n",
      "for k = 103 model profit recall is 84.5070\n",
      "for k = 105 model profit recall is 84.5070\n",
      "for k = 107 model profit recall is 83.0986\n",
      "for k = 109 model profit recall is 83.0986\n",
      "for k = 111 model profit recall is 84.5070\n",
      "for k = 113 model profit recall is 83.0986\n",
      "for k = 115 model profit recall is 83.0986\n",
      "for k = 117 model profit recall is 83.0986\n",
      "for k = 119 model profit recall is 83.0986\n",
      "for k = 121 model profit recall is 83.0986\n",
      "for k = 123 model profit recall is 81.6901\n",
      "for k = 125 model profit recall is 83.0986\n",
      "for k = 127 model profit recall is 83.0986\n",
      "for k = 129 model profit recall is 83.0986\n",
      "for k = 131 model profit recall is 83.0986\n",
      "for k = 133 model profit recall is 83.0986\n",
      "for k = 135 model profit recall is 84.5070\n",
      "for k = 137 model profit recall is 84.5070\n",
      "for k = 139 model profit recall is 80.2817\n",
      "for k = 141 model profit recall is 81.6901\n",
      "for k = 143 model profit recall is 81.6901\n",
      "for k = 145 model profit recall is 81.6901\n",
      "for k = 147 model profit recall is 81.6901\n",
      "for k = 149 model profit recall is 81.6901\n",
      "for k = 151 model profit recall is 83.0986\n",
      "for k = 153 model profit recall is 83.0986\n",
      "for k = 155 model profit recall is 83.0986\n",
      "for k = 157 model profit recall is 83.0986\n",
      "for k = 159 model profit recall is 81.6901\n",
      "for k = 161 model profit recall is 81.6901\n",
      "for k = 163 model profit recall is 83.0986\n",
      "for k = 165 model profit recall is 81.6901\n",
      "for k = 167 model profit recall is 81.6901\n",
      "for k = 169 model profit recall is 81.6901\n",
      "for k = 171 model profit recall is 81.6901\n",
      "for k = 173 model profit recall is 84.5070\n",
      "for k = 175 model profit recall is 84.5070\n",
      "for k = 177 model profit recall is 84.5070\n",
      "for k = 179 model profit recall is 87.3239\n",
      "for k = 181 model profit recall is 87.3239\n",
      "for k = 183 model profit recall is 87.3239\n",
      "for k = 185 model profit recall is 87.3239\n",
      "for k = 187 model profit recall is 87.3239\n",
      "for k = 189 model profit recall is 87.3239\n",
      "for k = 191 model profit recall is 87.3239\n"
     ]
    }
   ],
   "source": [
    "recall = []\n",
    "for i in range(1,int(len(X_train)**0.5)*2,2):\n",
    "    knn = KNeighborsClassifier(n_neighbors=i,  metric='minkowski')\n",
    "    knn.fit(X_train, y_train)\n",
    "    knn_prediction_output = knn.predict(X_test)\n",
    "    confusion = confusion_matrix(y_test, knn_prediction_output)\n",
    "    TP = confusion[1, 1] \n",
    "    TN = confusion[0, 0] \n",
    "    FP = confusion[0, 1] \n",
    "    FN = confusion[1, 0] \n",
    "    accuracy = (TP + TN)/(TP + TN + FP + FN)\n",
    "    precision = TP / (TP + FP)\n",
    "    recall = TP / (TP + FN)\n",
    "    f1_score= (2 * precision * recall) / (precision + recall)\n",
    "    print(f\"for k = {i} model profit recall is {recall*100:,.4f}\")"
   ]
  },
  {
   "cell_type": "markdown",
   "id": "1d05c1a7",
   "metadata": {},
   "source": [
    "Result of Knn hyperparameter: We can see that the best recall value comes out to be 87.3239 when k = 179 "
   ]
  },
  {
   "cell_type": "markdown",
   "id": "79948d2d",
   "metadata": {},
   "source": [
    "## Classification report"
   ]
  },
  {
   "cell_type": "code",
   "execution_count": 35,
   "id": "ddfe69a8",
   "metadata": {},
   "outputs": [
    {
     "name": "stdout",
     "output_type": "stream",
     "text": [
      "              precision    recall  f1-score   support\n",
      "\n",
      "           0       0.99      0.83      0.90      1975\n",
      "           1       0.16      0.87      0.26        71\n",
      "\n",
      "    accuracy                           0.83      2046\n",
      "   macro avg       0.57      0.85      0.58      2046\n",
      "weighted avg       0.97      0.83      0.88      2046\n",
      "\n"
     ]
    }
   ],
   "source": [
    "print(classification_report(y_test, y_pred))"
   ]
  },
  {
   "cell_type": "markdown",
   "id": "978515e9",
   "metadata": {},
   "source": [
    "# Decision Tree using default parameters"
   ]
  },
  {
   "cell_type": "markdown",
   "id": "ab96ddfa",
   "metadata": {},
   "source": [
    "Creating the decision tree using the default parameters"
   ]
  },
  {
   "cell_type": "code",
   "execution_count": 36,
   "id": "465e2247",
   "metadata": {},
   "outputs": [],
   "source": [
    "dtree=DecisionTreeClassifier(random_state=random_seed)"
   ]
  },
  {
   "cell_type": "markdown",
   "id": "d8e801dc",
   "metadata": {},
   "source": [
    "Fitting the model to train the dataset"
   ]
  },
  {
   "cell_type": "code",
   "execution_count": 37,
   "id": "b9e289e3",
   "metadata": {},
   "outputs": [],
   "source": [
    "_ = dtree.fit(X_train, y_train)"
   ]
  },
  {
   "cell_type": "markdown",
   "id": "5655f290",
   "metadata": {},
   "source": [
    "Review of the performance of the model on the validation/test data"
   ]
  },
  {
   "cell_type": "code",
   "execution_count": 38,
   "id": "9f174481",
   "metadata": {},
   "outputs": [
    {
     "name": "stdout",
     "output_type": "stream",
     "text": [
      "*************************************\n",
      "Recall Score:     0.3380281690140845\n",
      "*************************************\n",
      "Accuracy Score:   0.9525904203323559\n",
      "Precision Score:  0.32432432432432434\n",
      "*************************************\n"
     ]
    }
   ],
   "source": [
    "y_pred = dtree.predict(X_test)\n",
    "print(\"*************************************\")\n",
    "print(f\"{'Recall Score:':18}{recall_score(y_test, y_pred)}\")\n",
    "print(\"*************************************\")\n",
    "print(f\"{'Accuracy Score: ':18}{accuracy_score(y_test, y_pred)}\")\n",
    "print(f\"{'Precision Score: ':18}{precision_score(y_test, y_pred)}\")\n",
    "print(\"*************************************\")"
   ]
  },
  {
   "cell_type": "markdown",
   "id": "cbba087f",
   "metadata": {},
   "source": [
    "Constructing the confusion matrix"
   ]
  },
  {
   "cell_type": "code",
   "execution_count": 39,
   "id": "48c69025",
   "metadata": {},
   "outputs": [
    {
     "data": {
      "text/plain": [
       "array([[1925,   50],\n",
       "       [  47,   24]], dtype=int64)"
      ]
     },
     "execution_count": 39,
     "metadata": {},
     "output_type": "execute_result"
    }
   ],
   "source": [
    "cm = confusion_matrix(y_test, y_pred)\n",
    "cm"
   ]
  },
  {
   "cell_type": "markdown",
   "id": "b1e094b0",
   "metadata": {},
   "source": [
    "# Decision Tree with hyperparameter tuning"
   ]
  },
  {
   "cell_type": "markdown",
   "id": "c71479b8",
   "metadata": {},
   "source": [
    "Checking the values of hyperparameters"
   ]
  },
  {
   "cell_type": "code",
   "execution_count": 40,
   "id": "04d359ad",
   "metadata": {},
   "outputs": [
    {
     "data": {
      "text/plain": [
       "{'ccp_alpha': 0.0,\n",
       " 'class_weight': None,\n",
       " 'criterion': 'gini',\n",
       " 'max_depth': None,\n",
       " 'max_features': None,\n",
       " 'max_leaf_nodes': None,\n",
       " 'min_impurity_decrease': 0.0,\n",
       " 'min_samples_leaf': 1,\n",
       " 'min_samples_split': 2,\n",
       " 'min_weight_fraction_leaf': 0.0,\n",
       " 'random_state': 1,\n",
       " 'splitter': 'best'}"
      ]
     },
     "execution_count": 40,
     "metadata": {},
     "output_type": "execute_result"
    }
   ],
   "source": [
    "dtree.get_params()"
   ]
  },
  {
   "cell_type": "markdown",
   "id": "8dc007a1",
   "metadata": {},
   "source": [
    "Checking the depth and number of leaves"
   ]
  },
  {
   "cell_type": "code",
   "execution_count": 41,
   "id": "606f2680",
   "metadata": {},
   "outputs": [
    {
     "name": "stdout",
     "output_type": "stream",
     "text": [
      "46\n",
      "148\n"
     ]
    }
   ],
   "source": [
    "print(dtree.get_depth())\n",
    "print(dtree.get_n_leaves())"
   ]
  },
  {
   "cell_type": "markdown",
   "id": "1cc45974",
   "metadata": {},
   "source": [
    "Implementing the decision tree with hyperparameters"
   ]
  },
  {
   "cell_type": "code",
   "execution_count": 42,
   "id": "d3ed7ee5",
   "metadata": {},
   "outputs": [],
   "source": [
    "# Criterion used to guide data splits\n",
    "criterion = ['gini', 'entropy']\n",
    "\n",
    "# Maximum number of levels in tree. If None, then nodes are expanded until all leaves are pure or until all \n",
    "# leaves contain less than min_samples_split samples.\n",
    "# default = None\n",
    "max_depth = [int(x) for x in np.linspace(1, 4000, 5)]\n",
    "max_depth.append(None)\n",
    "\n",
    "# Minimum number of samples required to split a node\n",
    "# default is 2\n",
    "min_samples_split = [int(x) for x in np.linspace(2, 500, 5)]\n",
    "\n",
    "# Minimum number of samples required at each leaf node\n",
    "# default = 1 \n",
    "min_samples_leaf = [int(x) for x in np.linspace(1, 1000,5)]\n",
    "\n",
    "# max_leaf_nodes  - Grow trees with max_leaf_nodes in best-first fashion.\n",
    "# If None then unlimited number of leaf nodes.\n",
    "# default=None \n",
    "max_leaf_nodes = [int(x) for x in np.linspace(2, len(y_test), 5)]\n",
    "max_leaf_nodes.append(None)\n",
    "\n",
    "# min_impurity_decrease - A node will be split if this split induces a decrease of the impurity greater than or equal to this value.\n",
    "# default=0.0\n",
    "min_impurity_decrease = [x for x in np.arange(0.0, 0.01, 0.0001).round(5)]\n",
    "\n",
    "# Create the random grid\n",
    "param_grid_random = { 'criterion': criterion,\n",
    "                      'max_depth': max_depth,\n",
    "                      'min_samples_split': min_samples_split,\n",
    "                      'min_samples_leaf' : min_samples_leaf,\n",
    "                      'max_leaf_nodes' : max_leaf_nodes,\n",
    "                      'min_impurity_decrease' : min_impurity_decrease,\n",
    "                     }\n",
    "\n"
   ]
  },
  {
   "cell_type": "code",
   "execution_count": 43,
   "id": "d58e7a4b",
   "metadata": {},
   "outputs": [],
   "source": [
    "from sklearn.model_selection import GridSearchCV, RandomizedSearchCV\n",
    "dtree_default = DecisionTreeClassifier(random_state=1)\n",
    "\n",
    "best_random_search_model = RandomizedSearchCV(\n",
    "        estimator=DecisionTreeClassifier(random_state=1), \n",
    "        scoring='recall', \n",
    "        param_distributions=param_grid_random, \n",
    "        n_iter = 2000, \n",
    "        cv=10, \n",
    "        verbose=0, \n",
    "        n_jobs = -1\n",
    "    )\n",
    "_ = best_random_search_model.fit(X_train, y_train)"
   ]
  },
  {
   "cell_type": "code",
   "execution_count": 44,
   "id": "233bfa63",
   "metadata": {},
   "outputs": [
    {
     "name": "stdout",
     "output_type": "stream",
     "text": [
      "Best parameters found:  {'min_samples_split': 2, 'min_samples_leaf': 1, 'min_impurity_decrease': 0.0002, 'max_leaf_nodes': None, 'max_depth': None, 'criterion': 'gini'}\n"
     ]
    }
   ],
   "source": [
    "random_search_best_params = best_random_search_model.best_params_\n",
    "print('Best parameters found: ', random_search_best_params)"
   ]
  },
  {
   "cell_type": "code",
   "execution_count": 45,
   "id": "a657f340",
   "metadata": {},
   "outputs": [
    {
     "name": "stdout",
     "output_type": "stream",
     "text": [
      "Best score is 1.0\n"
     ]
    }
   ],
   "source": [
    "print('Best score is {}'.format(best_random_search_model.best_score_))"
   ]
  },
  {
   "cell_type": "markdown",
   "id": "4a3b4f89",
   "metadata": {},
   "source": [
    "Review of the performance of the model on the validation/test data with hyperparameters"
   ]
  },
  {
   "cell_type": "code",
   "execution_count": 46,
   "id": "abc7e71a",
   "metadata": {},
   "outputs": [
    {
     "name": "stdout",
     "output_type": "stream",
     "text": [
      "Confusion Matrix:  [[1925   50]\n",
      " [  47   24]]\n",
      "Recall score:\n",
      " 0.9525904203323559\n",
      "Accuracy score:\n",
      " 0.9525904203323559\n",
      "Precision score:\n",
      " 0.9535462003972767\n"
     ]
    }
   ],
   "source": [
    "validation_predictions = best_random_search_model.predict(X_test)\n",
    "print('Confusion Matrix: ', confusion_matrix(y_test, y_pred))\n",
    "print('Recall score:\\n', recall_score(y_test, y_pred,average ='weighted'))\n",
    "print('Accuracy score:\\n', accuracy_score(y_test, y_pred))\n",
    "print('Precision score:\\n', precision_score(y_test, y_pred,average ='weighted', zero_division=0))"
   ]
  },
  {
   "cell_type": "markdown",
   "id": "8ffba658",
   "metadata": {},
   "source": [
    "# Random Forest using default parameters"
   ]
  },
  {
   "cell_type": "markdown",
   "id": "4347bc10",
   "metadata": {},
   "source": [
    "Creating the random forest using the default parameters"
   ]
  },
  {
   "cell_type": "code",
   "execution_count": 29,
   "id": "23ff52e9",
   "metadata": {},
   "outputs": [],
   "source": [
    "rforest = RandomForestClassifier(random_state=1)"
   ]
  },
  {
   "cell_type": "markdown",
   "id": "fa902bf5",
   "metadata": {},
   "source": [
    "Fitting the model to train the dataset"
   ]
  },
  {
   "cell_type": "code",
   "execution_count": 30,
   "id": "d3aa1882",
   "metadata": {},
   "outputs": [],
   "source": [
    "_ = rforest.fit(X_train,y_train)"
   ]
  },
  {
   "cell_type": "markdown",
   "id": "f3b11547",
   "metadata": {},
   "source": [
    "Predicting the model result"
   ]
  },
  {
   "cell_type": "code",
   "execution_count": 31,
   "id": "2858f4ca",
   "metadata": {},
   "outputs": [],
   "source": [
    "y_pred = rforest.predict(X_test)"
   ]
  },
  {
   "cell_type": "markdown",
   "id": "e2c62bd1",
   "metadata": {},
   "source": [
    "Constructing the confusion matrix"
   ]
  },
  {
   "cell_type": "code",
   "execution_count": 32,
   "id": "d86b041c",
   "metadata": {},
   "outputs": [
    {
     "name": "stdout",
     "output_type": "stream",
     "text": [
      "Confusion Matrix:  [[1961   14]\n",
      " [  54   17]]\n",
      "Recall score:\n",
      " 0.9667644183773216\n",
      "Accuracy score:\n",
      " 0.9667644183773216\n",
      "Precision score:\n",
      " 0.9584591613727931\n"
     ]
    }
   ],
   "source": [
    "print('Confusion Matrix: ', confusion_matrix(y_test, y_pred))\n",
    "print('Recall score:\\n', recall_score(y_test, y_pred,average ='weighted'))\n",
    "print('Accuracy score:\\n', accuracy_score(y_test, y_pred))\n",
    "print('Precision score:\\n', precision_score(y_test, y_pred,average ='weighted', zero_division=0))"
   ]
  },
  {
   "cell_type": "markdown",
   "id": "8849c5d5",
   "metadata": {},
   "source": [
    "Printing this value for the future reference"
   ]
  },
  {
   "cell_type": "code",
   "execution_count": 35,
   "id": "c3200603",
   "metadata": {},
   "outputs": [],
   "source": [
    "confusion = confusion_matrix(y_test, y_pred)"
   ]
  },
  {
   "cell_type": "markdown",
   "id": "36d66c63",
   "metadata": {},
   "source": [
    "# RandomForest using hyperparameter tuning"
   ]
  },
  {
   "cell_type": "markdown",
   "id": "c7dd2edd",
   "metadata": {},
   "source": [
    "Creating the random forest using the hyperparameters parameters"
   ]
  },
  {
   "cell_type": "code",
   "execution_count": 51,
   "id": "dcfd83f8",
   "metadata": {},
   "outputs": [],
   "source": [
    "# Criterion used to guide data splits\n",
    "criterion = ['gini', 'entropy']\n",
    "\n",
    "# Maximum number of levels in tree. If None, then nodes are expanded until all leaves are pure or until all \n",
    "# leaves contain less than min_samples_split samples.\n",
    "# default = None\n",
    "max_depth = [int(x) for x in np.linspace(1, 4000, 5)]\n",
    "max_depth.append(None)\n",
    "\n",
    "# Minimum number of samples required to split a node\n",
    "# default is 2\n",
    "min_samples_split = [int(x) for x in np.linspace(2, 500, 5)]\n",
    "\n",
    "# Minimum number of samples required at each leaf node\n",
    "# default = 1 \n",
    "min_samples_leaf = [int(x) for x in np.linspace(1, 1000,5)]\n",
    "\n",
    "# max_leaf_nodes  - Grow trees with max_leaf_nodes in best-first fashion.\n",
    "# If None then unlimited number of leaf nodes.\n",
    "# default=None \n",
    "max_leaf_nodes = [int(x) for x in np.linspace(2, len(y_test), 5)]\n",
    "max_leaf_nodes.append(None)\n",
    "\n",
    "# min_impurity_decrease - A node will be split if this split induces a decrease of the impurity greater than or equal to this value.\n",
    "# default=0.0\n",
    "min_impurity_decrease = [x for x in np.arange(0.0, 0.01, 0.0001).round(5)]\n",
    "\n",
    "# Create the random grid\n",
    "param_grid_random = { 'criterion': criterion,\n",
    "                      'max_depth': max_depth,\n",
    "                      'min_samples_split': min_samples_split,\n",
    "                      'min_samples_leaf' : min_samples_leaf,\n",
    "                      'max_leaf_nodes' : max_leaf_nodes,\n",
    "                      'min_impurity_decrease' : min_impurity_decrease,\n",
    "                     }\n",
    "\n"
   ]
  },
  {
   "cell_type": "code",
   "execution_count": 52,
   "id": "974af911",
   "metadata": {},
   "outputs": [],
   "source": [
    "rforest = RandomForestClassifier(random_state=1)\n",
    "\n",
    "best_random_search_model = RandomizedSearchCV(\n",
    "        estimator=RandomForestClassifier(random_state=1), \n",
    "        scoring='recall', \n",
    "        param_distributions=param_grid_random, \n",
    "        n_iter = 500, \n",
    "        cv=10, \n",
    "        verbose=0, \n",
    "        n_jobs = -1\n",
    "    )\n",
    "_ = best_random_search_model.fit(X_train, y_train)"
   ]
  },
  {
   "cell_type": "code",
   "execution_count": 53,
   "id": "3a502d86",
   "metadata": {},
   "outputs": [
    {
     "name": "stdout",
     "output_type": "stream",
     "text": [
      "Best parameters found:  {'min_samples_split': 126, 'min_samples_leaf': 1, 'min_impurity_decrease': 0.001, 'max_leaf_nodes': None, 'max_depth': 4000, 'criterion': 'entropy'}\n"
     ]
    }
   ],
   "source": [
    "random_search_best_params = best_random_search_model.best_params_\n",
    "print('Best parameters found: ', random_search_best_params)"
   ]
  },
  {
   "cell_type": "code",
   "execution_count": 54,
   "id": "3fd9fd9c",
   "metadata": {},
   "outputs": [
    {
     "name": "stdout",
     "output_type": "stream",
     "text": [
      "Best score is 0.9984862509700523\n"
     ]
    }
   ],
   "source": [
    "print('Best score is {}'.format(best_random_search_model.best_score_))"
   ]
  },
  {
   "cell_type": "markdown",
   "id": "ec418b1d",
   "metadata": {},
   "source": [
    "Constructing the confusion matrix "
   ]
  },
  {
   "cell_type": "code",
   "execution_count": 55,
   "id": "6d5c9fb1",
   "metadata": {},
   "outputs": [
    {
     "name": "stdout",
     "output_type": "stream",
     "text": [
      "Confusion Matrix:  [[1901   74]\n",
      " [  31   40]]\n",
      "Recall score:\n",
      " 0.9486803519061584\n",
      "Accuracy score:\n",
      " 0.9486803519061584\n",
      "Precision score:\n",
      " 0.9619854946772345\n"
     ]
    }
   ],
   "source": [
    "y_pred = best_random_search_model.predict(X_test)\n",
    "print('Confusion Matrix: ', confusion_matrix(y_test, y_pred))\n",
    "print('Recall score:\\n', recall_score(y_test, y_pred,average ='weighted'))\n",
    "print('Accuracy score:\\n', accuracy_score(y_test, y_pred))\n",
    "print('Precision score:\\n', precision_score(y_test, y_pred,average ='weighted', zero_division=0))"
   ]
  },
  {
   "cell_type": "markdown",
   "id": "2fd622b9",
   "metadata": {},
   "source": [
    "# GradientBoostingClassifier using default parameters"
   ]
  },
  {
   "cell_type": "markdown",
   "id": "0791138c",
   "metadata": {},
   "source": [
    "Creating the GradBoost using the default parameters"
   ]
  },
  {
   "cell_type": "code",
   "execution_count": 56,
   "id": "e3db5073",
   "metadata": {},
   "outputs": [],
   "source": [
    "gboost = GradientBoostingClassifier(random_state=1)"
   ]
  },
  {
   "cell_type": "markdown",
   "id": "94659200",
   "metadata": {},
   "source": [
    "Fitting the model to train the dataset"
   ]
  },
  {
   "cell_type": "code",
   "execution_count": 57,
   "id": "f0fb198f",
   "metadata": {},
   "outputs": [],
   "source": [
    "_ = gboost.fit(X_train,y_train)"
   ]
  },
  {
   "cell_type": "markdown",
   "id": "be9f4c30",
   "metadata": {},
   "source": [
    "Predicting the GradBoost model result"
   ]
  },
  {
   "cell_type": "code",
   "execution_count": 58,
   "id": "07f1cfbf",
   "metadata": {},
   "outputs": [],
   "source": [
    "y_pred = gboost.predict(X_test)"
   ]
  },
  {
   "cell_type": "markdown",
   "id": "88f7ed9c",
   "metadata": {},
   "source": [
    "Constructing the confusion matrix "
   ]
  },
  {
   "cell_type": "code",
   "execution_count": 59,
   "id": "743a8d28",
   "metadata": {},
   "outputs": [
    {
     "name": "stdout",
     "output_type": "stream",
     "text": [
      "Confusion Matrix:  [[1838  137]\n",
      " [  24   47]]\n",
      "Recall score:\n",
      " 0.9213098729227761\n",
      "Accuracy score:\n",
      " 0.9213098729227761\n",
      "Precision score:\n",
      " 0.9617201227646082\n"
     ]
    }
   ],
   "source": [
    "print('Confusion Matrix: ', confusion_matrix(y_test, y_pred))\n",
    "print('Recall score:\\n', recall_score(y_test, y_pred,average ='weighted'))\n",
    "print('Accuracy score:\\n', accuracy_score(y_test, y_pred))\n",
    "print('Precision score:\\n', precision_score(y_test, y_pred,average ='weighted', zero_division=0))"
   ]
  },
  {
   "cell_type": "markdown",
   "id": "9129cc3b",
   "metadata": {},
   "source": [
    "# Gradient boosting with hyperparameter"
   ]
  },
  {
   "cell_type": "markdown",
   "id": "bc759987",
   "metadata": {},
   "source": [
    "Creating the GradBoost using the hyperparameters"
   ]
  },
  {
   "cell_type": "code",
   "execution_count": 61,
   "id": "3d0fe409",
   "metadata": {},
   "outputs": [],
   "source": [
    "# Criterion used to guide data splits\n",
    "criterion = ['squared_error']\n",
    "\n",
    "# Maximum number of levels in tree. If None, then nodes are expanded until all leaves are pure or until all \n",
    "# leaves contain less than min_samples_split samples.\n",
    "# default = None\n",
    "max_depth = [int(x) for x in np.linspace(1, 4000, 50)]\n",
    "max_depth.append(None)\n",
    "\n",
    "# Minimum number of samples required to split a node\n",
    "# default is 2\n",
    "min_samples_split = [int(x) for x in np.linspace(2, 500, 50)]\n",
    "\n",
    "# Minimum number of samples required at each leaf node\n",
    "# default = 1 \n",
    "min_samples_leaf = [int(x) for x in np.linspace(1, 1000, 50)]\n",
    "\n",
    "# max_leaf_nodes  - Grow trees with max_leaf_nodes in best-first fashion.\n",
    "# If None then unlimited number of leaf nodes.\n",
    "# default=None \n",
    "max_leaf_nodes = [int(x) for x in np.linspace(2, len(y_test), 50)]\n",
    "max_leaf_nodes.append(None)\n",
    "# min_impurity_decrease - A node will be split if this split induces a decrease of the impurity greater than or equal to this value.\n",
    "# default=0.0\n",
    "min_impurity_decrease = [x for x in np.arange(0.0, 0.01, 0.0001).round(5)]\n",
    "\n",
    "# Create the random grid\n",
    "param_grid_random = { 'criterion': criterion,\n",
    "                      'max_depth': max_depth,\n",
    "                      'min_samples_split': min_samples_split,\n",
    "                      'min_samples_leaf' : min_samples_leaf,\n",
    "                      'max_leaf_nodes' : max_leaf_nodes,\n",
    "                      'min_impurity_decrease' : min_impurity_decrease,\n",
    "                     }\n"
   ]
  },
  {
   "cell_type": "code",
   "execution_count": 62,
   "id": "02cffe6b",
   "metadata": {},
   "outputs": [],
   "source": [
    "gboost = GradientBoostingClassifier(random_state=1)\n",
    "\n",
    "best_random_search_model = RandomizedSearchCV(\n",
    "        estimator=GradientBoostingClassifier(random_state=1), \n",
    "        scoring='recall', \n",
    "        param_distributions=param_grid_random, \n",
    "        n_iter = 125, \n",
    "        cv=10, \n",
    "        verbose=0, \n",
    "        n_jobs = -1\n",
    "    )\n",
    "_ = best_random_search_model.fit(X_train, y_train)"
   ]
  },
  {
   "cell_type": "code",
   "execution_count": 63,
   "id": "5bcfeaba",
   "metadata": {},
   "outputs": [
    {
     "name": "stdout",
     "output_type": "stream",
     "text": [
      "Best parameters found:  {'min_samples_split': 184, 'min_samples_leaf': 836, 'min_impurity_decrease': 0.0, 'max_leaf_nodes': 335, 'max_depth': 2041, 'criterion': 'squared_error'}\n"
     ]
    }
   ],
   "source": [
    "random_search_best_params = best_random_search_model.best_params_\n",
    "print('Best parameters found: ', random_search_best_params)"
   ]
  },
  {
   "cell_type": "code",
   "execution_count": 64,
   "id": "2cb673c3",
   "metadata": {},
   "outputs": [
    {
     "name": "stdout",
     "output_type": "stream",
     "text": [
      "Best score is 1.0\n"
     ]
    }
   ],
   "source": [
    "print('Best score is {}'.format(best_random_search_model.best_score_))"
   ]
  },
  {
   "cell_type": "code",
   "execution_count": 65,
   "id": "9773c345",
   "metadata": {},
   "outputs": [],
   "source": [
    "y_pred = best_random_search_model.predict(X_test)"
   ]
  },
  {
   "cell_type": "markdown",
   "id": "8663a207",
   "metadata": {},
   "source": [
    "Constructing the confusion matrix"
   ]
  },
  {
   "cell_type": "code",
   "execution_count": 66,
   "id": "aa219d5f",
   "metadata": {},
   "outputs": [
    {
     "name": "stdout",
     "output_type": "stream",
     "text": [
      "Confusion Matrix:  [[1839  136]\n",
      " [  22   49]]\n",
      "Recall score:\n",
      " 0.9227761485826002\n",
      "Accuracy score:\n",
      " 0.9227761485826002\n",
      "Precision score:\n",
      " 0.9630780756883616\n"
     ]
    }
   ],
   "source": [
    "print('Confusion Matrix: ', confusion_matrix(y_test, y_pred))\n",
    "print('Recall score:\\n', recall_score(y_test, y_pred,average ='weighted'))\n",
    "print('Accuracy score:\\n', accuracy_score(y_test, y_pred))\n",
    "print('Precision score:\\n', precision_score(y_test, y_pred,average ='weighted', zero_division=0))"
   ]
  },
  {
   "cell_type": "markdown",
   "id": "c552aae1",
   "metadata": {},
   "source": [
    "# Logistic Regression with Hyperparameter Tuning"
   ]
  },
  {
   "cell_type": "markdown",
   "id": "6d919729",
   "metadata": {},
   "source": [
    "Creating the logistic regression using the hyperparameters"
   ]
  },
  {
   "cell_type": "code",
   "execution_count": 76,
   "id": "f77b331e",
   "metadata": {},
   "outputs": [],
   "source": [
    "from sklearn.linear_model import LogisticRegression\n",
    "param_grid = { 'solver': ['saga','sag'],\n",
    "                      'penalty': ['l2','none'], # NOTE: 'elasticnet' is only supported by 'saga' solver\n",
    "                      'C': [100, 10, 1.0, 0.1, 0.01],\n",
    "                      'max_iter': [5000] # number of iterations to converge (sometimes the default is not enough - and sometimes, it will never converge)\n",
    "                     }"
   ]
  },
  {
   "cell_type": "code",
   "execution_count": 77,
   "id": "0f318afe",
   "metadata": {},
   "outputs": [],
   "source": [
    "best_lregression = GridSearchCV(estimator=LogisticRegression(random_state=0),\n",
    "                                    scoring='recall', param_grid=param_grid, \n",
    "                                    cv=10, verbose=0,  n_jobs = -1)\n",
    "best_lregression = best_lregression.fit(X_train, y_train)"
   ]
  },
  {
   "cell_type": "markdown",
   "id": "355828f3",
   "metadata": {},
   "source": [
    "Constructing the Confusion Matrix"
   ]
  },
  {
   "cell_type": "code",
   "execution_count": 78,
   "id": "936d965c",
   "metadata": {},
   "outputs": [
    {
     "name": "stdout",
     "output_type": "stream",
     "text": [
      "***********************\n",
      "Accuracy Score:   0.870\n",
      "***********************\n",
      "Recall Score:     0.732\n",
      "Precision Score:  0.174\n",
      "***********************\n"
     ]
    }
   ],
   "source": [
    "y_pred = best_lregression.predict(X_test)\n",
    "print(\"***********************\")\n",
    "print(f\"{'Accuracy Score: ':18}{accuracy_score(y_test, y_pred):.3f}\")\n",
    "print(\"***********************\")\n",
    "print(f\"{'Recall Score:':18}{recall_score(y_test, y_pred):.3f}\")\n",
    "print(f\"{'Precision Score: ':18}{precision_score(y_test, y_pred):.3f}\")\n",
    "\n",
    "print(\"***********************\")"
   ]
  },
  {
   "cell_type": "markdown",
   "id": "2b7e4e32",
   "metadata": {},
   "source": [
    "# Neural Network using default parameters"
   ]
  },
  {
   "cell_type": "markdown",
   "id": "e18b3b5c",
   "metadata": {},
   "source": [
    "Creating the neural network using the default parameters"
   ]
  },
  {
   "cell_type": "code",
   "execution_count": 84,
   "id": "d9dfe189",
   "metadata": {},
   "outputs": [],
   "source": [
    "from sklearn.neural_network import MLPClassifier"
   ]
  },
  {
   "cell_type": "markdown",
   "id": "366f3d33",
   "metadata": {},
   "source": [
    "Fitting the model to train the dataset"
   ]
  },
  {
   "cell_type": "code",
   "execution_count": 85,
   "id": "048123f4",
   "metadata": {},
   "outputs": [
    {
     "name": "stdout",
     "output_type": "stream",
     "text": [
      "CPU times: total: 1min 4s\n",
      "Wall time: 10.8 s\n"
     ]
    }
   ],
   "source": [
    "%%time\n",
    "\n",
    "ann = MLPClassifier(hidden_layer_sizes=(500,200,100,10), solver='adam', max_iter=5000,random_state =1)\n",
    "_ = ann.fit(X_train, y_train)"
   ]
  },
  {
   "cell_type": "code",
   "execution_count": 86,
   "id": "e066e179",
   "metadata": {},
   "outputs": [
    {
     "name": "stdout",
     "output_type": "stream",
     "text": [
      "CPU times: total: 188 ms\n",
      "Wall time: 30.4 ms\n"
     ]
    }
   ],
   "source": [
    "%%time\n",
    "\n",
    "y_pred = ann.predict(X_test)"
   ]
  },
  {
   "cell_type": "markdown",
   "id": "402de891",
   "metadata": {},
   "source": [
    "Printing the classification report of Neural Network"
   ]
  },
  {
   "cell_type": "code",
   "execution_count": 87,
   "id": "06f20bea",
   "metadata": {},
   "outputs": [
    {
     "name": "stdout",
     "output_type": "stream",
     "text": [
      "              precision    recall  f1-score   support\n",
      "\n",
      "           0       0.98      0.98      0.98      1975\n",
      "           1       0.37      0.31      0.34        71\n",
      "\n",
      "    accuracy                           0.96      2046\n",
      "   macro avg       0.67      0.65      0.66      2046\n",
      "weighted avg       0.95      0.96      0.96      2046\n",
      "\n"
     ]
    }
   ],
   "source": [
    "print(classification_report(y_test, y_pred))"
   ]
  },
  {
   "cell_type": "markdown",
   "id": "55796573",
   "metadata": {},
   "source": [
    "Constructing the Confusion Matrix"
   ]
  },
  {
   "cell_type": "code",
   "execution_count": 88,
   "id": "8b51b316",
   "metadata": {},
   "outputs": [
    {
     "name": "stdout",
     "output_type": "stream",
     "text": [
      "[[1937   38]\n",
      " [  49   22]]\n",
      "***********************\n",
      "Accuracy Score:   0.957\n",
      "***********************\n",
      "Recall Score:     0.310\n",
      "Precision Score:  0.367\n"
     ]
    }
   ],
   "source": [
    "y_pred = ann.predict(X_test)\n",
    "print(confusion_matrix(y_test, y_pred))\n",
    "print(\"***********************\")\n",
    "print(f\"{'Accuracy Score: ':18}{accuracy_score(y_test, y_pred):.3f}\")\n",
    "print(\"***********************\")\n",
    "print(f\"{'Recall Score:':18}{recall_score(y_test, y_pred):.3f}\")\n",
    "print(f\"{'Precision Score: ':18}{precision_score(y_test, y_pred):.3f}\")"
   ]
  },
  {
   "cell_type": "markdown",
   "id": "0f465ed9",
   "metadata": {},
   "source": [
    "# Neural Network with hyperparameter tuning"
   ]
  },
  {
   "cell_type": "markdown",
   "id": "fa598aca",
   "metadata": {},
   "source": [
    "Creating the neural network using the hyperparameters"
   ]
  },
  {
   "cell_type": "code",
   "execution_count": 91,
   "id": "9eb4cdda",
   "metadata": {},
   "outputs": [
    {
     "name": "stdout",
     "output_type": "stream",
     "text": [
      "recall score:  1.0\n",
      "Recall Score:     0.366\n",
      "parameters:  {'activation': 'tanh', 'solver': 'sgd'}\n"
     ]
    }
   ],
   "source": [
    "score_measure = 'recall'\n",
    "param_grid = {\n",
    "    'activation': ['identity','logistic','tanh','relu'],\n",
    "    'solver': ['sgd','adam']\n",
    "}\n",
    "gridSearchAnn = GridSearchCV(MLPClassifier(hidden_layer_sizes=(500,200,100,10), max_iter=20000), param_grid, scoring=score_measure, n_jobs=-1)\n",
    "\n",
    "gridSearchAnn.fit(X_train, y_train)\n",
    "\n",
    "y_pred = gridSearchAnn.predict(X_test)\n",
    "print(score_measure, 'score: ', gridSearchAnn.best_score_)\n",
    "print(f\"{'Recall Score: ':18}{recall_score(y_test, y_pred):.3f}\")\n",
    "print('parameters: ', gridSearchAnn.best_params_)"
   ]
  },
  {
   "cell_type": "markdown",
   "id": "f74c6ed2",
   "metadata": {},
   "source": [
    "# Prediction with ADABoost (using default parameters)"
   ]
  },
  {
   "cell_type": "markdown",
   "id": "721563a3",
   "metadata": {},
   "source": [
    "Creating the ADABoost using the default parameters"
   ]
  },
  {
   "cell_type": "code",
   "execution_count": 94,
   "id": "e8dad9c9",
   "metadata": {},
   "outputs": [],
   "source": [
    "aboost = AdaBoostClassifier(random_state=1)"
   ]
  },
  {
   "cell_type": "markdown",
   "id": "ce5e56a1",
   "metadata": {},
   "source": [
    "Fitting the model to train the dataset"
   ]
  },
  {
   "cell_type": "code",
   "execution_count": 95,
   "id": "f03865e3",
   "metadata": {},
   "outputs": [],
   "source": [
    "_ = aboost.fit(X_train,y_train)"
   ]
  },
  {
   "cell_type": "markdown",
   "id": "82384f21",
   "metadata": {},
   "source": [
    "Predicting the ADABoost model result"
   ]
  },
  {
   "cell_type": "code",
   "execution_count": 96,
   "id": "7a541014",
   "metadata": {},
   "outputs": [],
   "source": [
    "y_pred = aboost.predict(X_test)"
   ]
  },
  {
   "cell_type": "markdown",
   "id": "a6058bb2",
   "metadata": {},
   "source": [
    "Constructing the Confusion Matrix"
   ]
  },
  {
   "cell_type": "code",
   "execution_count": 97,
   "id": "c2cfd280",
   "metadata": {},
   "outputs": [
    {
     "name": "stdout",
     "output_type": "stream",
     "text": [
      "Confusion Matrix:  [[1798  177]\n",
      " [  23   48]]\n",
      "Recall score:\n",
      " 0.9022482893450635\n",
      "Accuracy score:\n",
      " 0.9022482893450635\n",
      "Precision score:\n",
      " 0.9605090818908112\n"
     ]
    }
   ],
   "source": [
    "print('Confusion Matrix: ', confusion_matrix(y_test, y_pred))\n",
    "print('Recall score:\\n', recall_score(y_test, y_pred,average ='weighted'))\n",
    "print('Accuracy score:\\n', accuracy_score(y_test, y_pred))\n",
    "print('Precision score:\\n', precision_score(y_test, y_pred,average ='weighted', zero_division=0))"
   ]
  },
  {
   "cell_type": "markdown",
   "id": "234f15ef",
   "metadata": {},
   "source": [
    "# Prediction with ADABoost (using hyperparameter tuning)"
   ]
  },
  {
   "cell_type": "markdown",
   "id": "078d640f",
   "metadata": {},
   "source": [
    "Creating the ADABoost using the hyperparameter tuning"
   ]
  },
  {
   "cell_type": "code",
   "execution_count": 98,
   "id": "10b4e672",
   "metadata": {},
   "outputs": [],
   "source": [
    "# Criterion used to guide data splits\n",
    "criterion = ['gini', 'entropy']\n",
    "\n",
    "n_estimators = [int(x) for x in np.linspace(1, 4000, 10)]\n",
    "n_estimators.append(None)\n",
    "\n",
    "\n",
    "learning_rate = [(0.97 + x / 100) for x in range(0, 10)]\n",
    "\n",
    "# Create the random grid\n",
    "param_grid_random = { #'criterion': criterion,\n",
    "                      \n",
    "                     'n_estimators': n_estimators,\n",
    "                     'learning_rate': learning_rate,                     \n",
    "                     #'algorithm': algorithm,                     \n",
    "                      #'min_samples_split': min_samples_split,\n",
    "                      #'min_samples_leaf' : min_samples_leaf,\n",
    "                      #'max_leaf_nodes' : max_leaf_nodes,\n",
    "                      #'min_impurity_decrease' : min_impurity_decrease,\n",
    "                     }\n"
   ]
  },
  {
   "cell_type": "code",
   "execution_count": 99,
   "id": "3e331ded",
   "metadata": {},
   "outputs": [
    {
     "data": {
      "text/plain": [
       "dict_keys(['algorithm', 'base_estimator', 'learning_rate', 'n_estimators', 'random_state'])"
      ]
     },
     "execution_count": 99,
     "metadata": {},
     "output_type": "execute_result"
    }
   ],
   "source": [
    "estimator= AdaBoostClassifier(random_state= 1)\n",
    "estimator.get_params().keys()"
   ]
  },
  {
   "cell_type": "code",
   "execution_count": 100,
   "id": "968ebec6",
   "metadata": {},
   "outputs": [
    {
     "name": "stderr",
     "output_type": "stream",
     "text": [
      "C:\\Users\\User\\anaconda3\\lib\\site-packages\\sklearn\\model_selection\\_validation.py:372: FitFailedWarning: \n",
      "70 fits failed out of a total of 500.\n",
      "The score on these train-test partitions for these parameters will be set to nan.\n",
      "If these failures are not expected, you can try to debug them by setting error_score='raise'.\n",
      "\n",
      "Below are more details about the failures:\n",
      "--------------------------------------------------------------------------------\n",
      "70 fits failed with the following error:\n",
      "Traceback (most recent call last):\n",
      "  File \"C:\\Users\\User\\anaconda3\\lib\\site-packages\\sklearn\\model_selection\\_validation.py\", line 680, in _fit_and_score\n",
      "    estimator.fit(X_train, y_train, **fit_params)\n",
      "  File \"C:\\Users\\User\\anaconda3\\lib\\site-packages\\sklearn\\ensemble\\_weight_boosting.py\", line 486, in fit\n",
      "    return super().fit(X, y, sample_weight)\n",
      "  File \"C:\\Users\\User\\anaconda3\\lib\\site-packages\\sklearn\\ensemble\\_weight_boosting.py\", line 132, in fit\n",
      "    self._validate_estimator()\n",
      "  File \"C:\\Users\\User\\anaconda3\\lib\\site-packages\\sklearn\\ensemble\\_weight_boosting.py\", line 490, in _validate_estimator\n",
      "    super()._validate_estimator(default=DecisionTreeClassifier(max_depth=1))\n",
      "  File \"C:\\Users\\User\\anaconda3\\lib\\site-packages\\sklearn\\ensemble\\_base.py\", line 131, in _validate_estimator\n",
      "    raise ValueError(\n",
      "ValueError: n_estimators must be an integer, got <class 'NoneType'>.\n",
      "\n",
      "  warnings.warn(some_fits_failed_message, FitFailedWarning)\n",
      "C:\\Users\\User\\anaconda3\\lib\\site-packages\\sklearn\\model_selection\\_search.py:969: UserWarning: One or more of the test scores are non-finite: [1.         1.                nan 1.         1.         1.\n",
      " 1.         1.         0.94182772 1.         1.         1.\n",
      " 1.                nan 1.         1.         1.                nan\n",
      " 1.         1.         1.         1.         1.         1.\n",
      " 1.         0.94182772 1.         1.         1.         1.\n",
      " 0.94182772 0.94182772 0.94182772 1.                nan 1.\n",
      "        nan 1.                nan 1.         1.         1.\n",
      " 1.         1.                nan 1.         1.         0.94182772\n",
      " 1.         1.        ]\n",
      "  warnings.warn(\n"
     ]
    }
   ],
   "source": [
    "aboost = AdaBoostClassifier(random_state=1)\n",
    "best_random_search_model = RandomizedSearchCV(\n",
    "        estimator= AdaBoostClassifier(random_state=1), \n",
    "        scoring='recall', \n",
    "        param_distributions=param_grid_random, \n",
    "        n_iter = 50, \n",
    "        cv=10, \n",
    "        verbose=0, \n",
    "        n_jobs = -1\n",
    "    )\n",
    "_ = best_random_search_model.fit(X_train, y_train)"
   ]
  },
  {
   "cell_type": "code",
   "execution_count": 101,
   "id": "21d266eb",
   "metadata": {},
   "outputs": [
    {
     "name": "stdout",
     "output_type": "stream",
     "text": [
      "Best parameters found:  {'n_estimators': 445, 'learning_rate': 0.98}\n"
     ]
    }
   ],
   "source": [
    "random_search_best_params = best_random_search_model.best_params_\n",
    "print('Best parameters found: ', random_search_best_params)"
   ]
  },
  {
   "cell_type": "code",
   "execution_count": 102,
   "id": "1b519db4",
   "metadata": {},
   "outputs": [],
   "source": [
    "y_pred = best_random_search_model.predict(X_test)"
   ]
  },
  {
   "cell_type": "markdown",
   "id": "ad0461e6",
   "metadata": {},
   "source": [
    "Constructing the Confusion Matrix"
   ]
  },
  {
   "cell_type": "code",
   "execution_count": 103,
   "id": "ed98159c",
   "metadata": {},
   "outputs": [
    {
     "name": "stdout",
     "output_type": "stream",
     "text": [
      "Confusion Matrix:  [[1901   74]\n",
      " [  44   27]]\n",
      "Recall score:\n",
      " 0.9423264907135875\n",
      "Accuracy score:\n",
      " 0.9423264907135875\n",
      "Precision score:\n",
      " 0.9527377980355461\n"
     ]
    }
   ],
   "source": [
    "print('Confusion Matrix: ', confusion_matrix(y_test, y_pred))\n",
    "print('Recall score:\\n', recall_score(y_test, y_pred,average ='weighted'))\n",
    "print('Accuracy score:\\n', accuracy_score(y_test, y_pred))\n",
    "print('Precision score:\\n', precision_score(y_test, y_pred,average ='weighted', zero_division=0))"
   ]
  },
  {
   "cell_type": "markdown",
   "id": "a2f88cf3",
   "metadata": {},
   "source": [
    "# Prediction with XGBoost (using default parameters)"
   ]
  },
  {
   "cell_type": "markdown",
   "id": "2ecc858a",
   "metadata": {},
   "source": [
    "Creating a variable for XGBoost classifier"
   ]
  },
  {
   "cell_type": "code",
   "execution_count": 104,
   "id": "2392c8a7",
   "metadata": {},
   "outputs": [],
   "source": [
    "xgboost = XGBClassifier(random_state=1)"
   ]
  },
  {
   "cell_type": "markdown",
   "id": "4154fec5",
   "metadata": {},
   "source": [
    "Fitting the model to train the dataset"
   ]
  },
  {
   "cell_type": "code",
   "execution_count": 105,
   "id": "164d8fa3",
   "metadata": {},
   "outputs": [
    {
     "name": "stderr",
     "output_type": "stream",
     "text": [
      "C:\\Users\\User\\anaconda3\\lib\\site-packages\\xgboost\\sklearn.py:1224: UserWarning: The use of label encoder in XGBClassifier is deprecated and will be removed in a future release. To remove this warning, do the following: 1) Pass option use_label_encoder=False when constructing XGBClassifier object; and 2) Encode your labels (y) as integers starting with 0, i.e. 0, 1, 2, ..., [num_class - 1].\n",
      "  warnings.warn(label_encoder_deprecation_msg, UserWarning)\n"
     ]
    },
    {
     "name": "stdout",
     "output_type": "stream",
     "text": [
      "[13:09:32] WARNING: C:\\Windows\\Temp\\abs_557yfx631l\\croots\\recipe\\xgboost-split_1659548953302\\work\\src\\learner.cc:1115: Starting in XGBoost 1.3.0, the default evaluation metric used with the objective 'binary:logistic' was changed from 'error' to 'logloss'. Explicitly set eval_metric if you'd like to restore the old behavior.\n"
     ]
    }
   ],
   "source": [
    "_ = xgboost.fit(X_train, y_train)"
   ]
  },
  {
   "cell_type": "code",
   "execution_count": 106,
   "id": "740334f4",
   "metadata": {},
   "outputs": [],
   "source": [
    "y_pred = xgboost.predict(X_test)"
   ]
  },
  {
   "cell_type": "markdown",
   "id": "76c5eaed",
   "metadata": {},
   "source": [
    "Constructing the Confusion Matrix"
   ]
  },
  {
   "cell_type": "code",
   "execution_count": 107,
   "id": "8add2d10",
   "metadata": {},
   "outputs": [
    {
     "name": "stdout",
     "output_type": "stream",
     "text": [
      "Confusion Matrix:  [[1944   31]\n",
      " [  44   27]]\n",
      "Accuracy score:\n",
      " 0.9633431085043989\n",
      "Precision score:\n",
      " 0.7216922222993131\n",
      "Recall score:\n",
      " 0.6822927438045997\n"
     ]
    }
   ],
   "source": [
    "print('Confusion Matrix: ', confusion_matrix(y_test, y_pred))\n",
    "print('Accuracy score:\\n', accuracy_score(y_test, y_pred))\n",
    "print('Precision score:\\n', precision_score(y_test, y_pred,average ='macro'))\n",
    "print('Recall score:\\n', recall_score(y_test, y_pred,average ='macro'))"
   ]
  },
  {
   "cell_type": "markdown",
   "id": "b9e0a9cd",
   "metadata": {},
   "source": [
    "Predicting the XGBoost Model outputs"
   ]
  },
  {
   "cell_type": "code",
   "execution_count": 108,
   "id": "6990dd87",
   "metadata": {},
   "outputs": [],
   "source": [
    "xgboost_recall = recall_score(y_test, y_pred)"
   ]
  },
  {
   "cell_type": "markdown",
   "id": "c140eda1",
   "metadata": {},
   "source": [
    "Print out the recall value of XGBoost"
   ]
  },
  {
   "cell_type": "code",
   "execution_count": 109,
   "id": "79e32c5d",
   "metadata": {},
   "outputs": [
    {
     "name": "stdout",
     "output_type": "stream",
     "text": [
      "0.38028169014084506\n"
     ]
    }
   ],
   "source": [
    "print(xgboost_recall)"
   ]
  },
  {
   "cell_type": "markdown",
   "id": "f1eda2e2",
   "metadata": {},
   "source": [
    "### By checking all the algorithms, we figured out that the best value of recall comes from the Random Forest Algorithm which was 96.67% using default parameters."
   ]
  },
  {
   "cell_type": "markdown",
   "id": "7892e40c",
   "metadata": {},
   "source": [
    "Taking in consideration the random forest algorithm below is the final profit for the insurance company."
   ]
  },
  {
   "cell_type": "code",
   "execution_count": 37,
   "id": "a3e0bf42",
   "metadata": {},
   "outputs": [
    {
     "name": "stdout",
     "output_type": "stream",
     "text": [
      "$442,377,450.98\n"
     ]
    }
   ],
   "source": [
    "TP = confusion[1, 1] \n",
    "TN = confusion[0, 0] \n",
    "FP = confusion[0, 1] \n",
    "FN = confusion[1, 0] \n",
    "confusion_perc = confusion/2040 \n",
    "rf_result = confusion_perc * 50000\n",
    "p_and_l = np.array([[TN_profit, FP_profit],[FN_profit, TP_profit]])\n",
    "rf_result * p_and_l\n",
    "model_profit = (rf_result * p_and_l).sum()\n",
    "model_profit\n",
    "print(f\"${model_profit:,.2f}\")"
   ]
  },
  {
   "cell_type": "markdown",
   "id": "613b09a5",
   "metadata": {},
   "source": [
    "# Business Impact Summary"
   ]
  },
  {
   "cell_type": "markdown",
   "id": "2dbbc80b",
   "metadata": {},
   "source": [
    "The insurance company offered 6800 existing firms the insurance. Of the 6800 firms, 220 went bankrupt. Since the firm has to pay \\\\$1000 to the insurance company to purchase the insurance. The insurance company's profit from getting a firm to join them turns out to be \\\\$1000 but if the firm goes bankrupt the insurance company has to pay from its own pocket \\\\$50000 ultimately resulting in a loss of  \\\\$49000 (-\\\\$50000 + \\\\$1000). If this 'null model' approach were used on the remaining 50,000 customers, this would result in a loss of \\\\$79,264,705.88. \n",
    "\n",
    "Using different modelling techniques I have figured out that the random forest model had the best recall value at 96.67\n",
    "Using a random forest model with default parameters on the bankruptcy dataset, the expected total profit resulted out to be $442,377,450.98.\n",
    "\n",
    "Based on the expected performance of the proposed model by the paramount team, the Insurance company could proceed with implementing a profitable business. However, the data shows a significant imbalance as there are companies which went bankrupt. If we could reduce the negative effect of the unbalanced data set, there is an opportunity to develop a better-performing model resulting in greater profit for the Insurance company."
   ]
  }
 ],
 "metadata": {
  "kernelspec": {
   "display_name": "Python 3 (ipykernel)",
   "language": "python",
   "name": "python3"
  },
  "language_info": {
   "codemirror_mode": {
    "name": "ipython",
    "version": 3
   },
   "file_extension": ".py",
   "mimetype": "text/x-python",
   "name": "python",
   "nbconvert_exporter": "python",
   "pygments_lexer": "ipython3",
   "version": "3.9.12"
  }
 },
 "nbformat": 4,
 "nbformat_minor": 5
}
